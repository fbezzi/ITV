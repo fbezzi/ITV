{
  "nbformat": 4,
  "nbformat_minor": 0,
  "metadata": {
    "colab": {
      "name": "Aula 02 - Python.ipynb",
      "provenance": [],
      "collapsed_sections": []
    },
    "kernelspec": {
      "name": "python3",
      "display_name": "Python 3"
    },
    "language_info": {
      "name": "python"
    }
  },
  "cells": [
    {
      "cell_type": "markdown",
      "metadata": {
        "id": "VTshshSoFGva"
      },
      "source": [
        "# **Instituto Tecnológico Vale**\n",
        "\n",
        "## **Elementos de Automação e Programação para Automação**\n",
        "\n",
        "### **Aula - Programação em Python - Parte 2**\n",
        "\n",
        "### **Professor: André Almeida Santos**\n",
        "\n"
      ]
    },
    {
      "cell_type": "markdown",
      "metadata": {
        "id": "88Bc8bjuGLaQ"
      },
      "source": [
        "## **Funções Python**\n",
        "\n",
        "- Uma função é um bloco de código que só é executado quando é chamado.\n",
        "\n",
        "- Você pode passar dados, conhecidos como parâmetros, para uma função.\n",
        "\n",
        "- Uma função pode retornar dados como resultado."
      ]
    },
    {
      "cell_type": "markdown",
      "metadata": {
        "id": "pv-nfDEfGVp5"
      },
      "source": [
        "### **Criando uma função**\n",
        "\n",
        "Em Python, uma função é definida usando a palavra-chave **def**\n",
        "\n",
        "**NOTA**: Atente-se para a identação."
      ]
    },
    {
      "cell_type": "code",
      "metadata": {
        "id": "F0LSKwMZE_zp"
      },
      "source": [
        "# Exemplo de criação de uma função\n",
        "\n",
        "def my_function():\n",
        "  print(\"Olá! Estou dentro da função\")"
      ],
      "execution_count": null,
      "outputs": []
    },
    {
      "cell_type": "markdown",
      "metadata": {
        "id": "sLYcA00dGv8z"
      },
      "source": [
        "Para chamar uma função, use o nome da função seguido por parênteses."
      ]
    },
    {
      "cell_type": "code",
      "metadata": {
        "id": "L_iLcMnFGefY"
      },
      "source": [
        "my_function()"
      ],
      "execution_count": null,
      "outputs": []
    },
    {
      "cell_type": "markdown",
      "metadata": {
        "id": "4TqFfLhyHGhY"
      },
      "source": [
        "### **Argumentos**\n",
        "\n",
        "- Informações podem ser passadas para funções como argumentos.\n",
        "\n",
        "- Os argumentos são especificados após o nome da função, entre parênteses. Você pode adicionar quantos argumentos quiser, apenas separe-os com uma vírgula.\n",
        "\n",
        "- O exemplo a seguir tem uma função com um argumento (fname). Quando a função é chamada, passamos um primeiro nome, que é usado dentro da função para imprimir o nome completo:"
      ]
    },
    {
      "cell_type": "code",
      "metadata": {
        "id": "H7QccI0BGyfu"
      },
      "source": [
        "def nome(fname):\n",
        "  print(fname + ' Santos')"
      ],
      "execution_count": null,
      "outputs": []
    },
    {
      "cell_type": "code",
      "metadata": {
        "id": "EBcd-7MEHuXj"
      },
      "source": [
        "nome('André')"
      ],
      "execution_count": null,
      "outputs": []
    },
    {
      "cell_type": "code",
      "metadata": {
        "id": "KtC_-6T2HzSJ"
      },
      "source": [
        "nome(4)"
      ],
      "execution_count": null,
      "outputs": []
    },
    {
      "cell_type": "code",
      "metadata": {
        "id": "7IbE-7YVH2jy"
      },
      "source": [
        "nome('Meunome')"
      ],
      "execution_count": null,
      "outputs": []
    },
    {
      "cell_type": "markdown",
      "metadata": {
        "id": "G_7tj0GfIXu1"
      },
      "source": [
        "### **Quantidade de Argumentos**\n",
        "\n",
        "Uma função pode ter quantos argumentos você desejar.\n",
        "\n",
        "Por padrão, uma função deve ser chamada com o número correto de argumentos. O que significa que: se sua função espera 2 argumentos, você deve chamar a função com 2 argumentos, nem mais, nem menos."
      ]
    },
    {
      "cell_type": "code",
      "metadata": {
        "id": "U1cu40hmH5yK"
      },
      "source": [
        "def my_function(fname, lname):\n",
        "  print(fname + \" \" + lname)"
      ],
      "execution_count": null,
      "outputs": []
    },
    {
      "cell_type": "code",
      "metadata": {
        "id": "y-ACzjpeIsfg"
      },
      "source": [
        "my_function('André', 'Santos')"
      ],
      "execution_count": null,
      "outputs": []
    },
    {
      "cell_type": "code",
      "metadata": {
        "id": "BqgANpBHIsxl"
      },
      "source": [
        "# E se eu passar só um argumento?\n",
        "\n",
        "my_function('André')"
      ],
      "execution_count": null,
      "outputs": []
    },
    {
      "cell_type": "code",
      "metadata": {
        "id": "EHbS9zcUIx_Y"
      },
      "source": [
        "# E se eu passar só mais de dois argumento?\n",
        "\n",
        "my_function('André', 'Almeida', 'Santos')"
      ],
      "execution_count": null,
      "outputs": []
    },
    {
      "cell_type": "code",
      "metadata": {
        "id": "AqrRBwITJueC"
      },
      "source": [
        ""
      ],
      "execution_count": null,
      "outputs": []
    },
    {
      "cell_type": "markdown",
      "metadata": {
        "id": "vpRuSA5VUkrr"
      },
      "source": [
        "**Argumentos arbitrários *args**\n",
        "\n",
        "Se você não sabe quantos argumentos serão passados para sua função, adicione um * antes do nome do parâmetro na definição da função.\n",
        "\n",
        "Dessa forma, a função receberá uma **tupla de argumentos** e poderá acessar os itens de acordo."
      ]
    },
    {
      "cell_type": "code",
      "metadata": {
        "id": "E7B2MQRUUx2j"
      },
      "source": [
        "def childs(*kids):\n",
        "  print('A criança na posição 0 chama: ' + kids[0])"
      ],
      "execution_count": null,
      "outputs": []
    },
    {
      "cell_type": "code",
      "metadata": {
        "id": "xuwDNRWXVK1K"
      },
      "source": [
        "childs(\"Joao\", \"Maria\", \"Pedro\")"
      ],
      "execution_count": null,
      "outputs": []
    },
    {
      "cell_type": "markdown",
      "metadata": {
        "id": "PjnrbXzIWFZi"
      },
      "source": [
        "Posso ter uma função com parâmetros determinados e arbitrários?\n",
        "\n",
        "Sim!"
      ]
    },
    {
      "cell_type": "code",
      "metadata": {
        "id": "UQTgUX6kVMn3"
      },
      "source": [
        "def familia(mae, pai, *filhos):\n",
        "  print(f'A mãe é: {mae}')\n",
        "  print(f'O pai é: {pai}')\n",
        "  print(f'Os filhos são: {filhos}')"
      ],
      "execution_count": null,
      "outputs": []
    },
    {
      "cell_type": "code",
      "metadata": {
        "id": "hnYqXGuiWYys"
      },
      "source": [
        "familia('maria', 'joao', 'pedro')"
      ],
      "execution_count": null,
      "outputs": []
    },
    {
      "cell_type": "code",
      "metadata": {
        "id": "Mhwsie62WiSt"
      },
      "source": [
        "familia('maria', 'joao', 'pedro', 'antonia', 'francisco')"
      ],
      "execution_count": null,
      "outputs": []
    },
    {
      "cell_type": "markdown",
      "metadata": {
        "id": "1XsSvUcllicf"
      },
      "source": [
        "**Argumentos de Palavras-Chave**\n",
        "\n",
        "Você também pode enviar argumentos com a sintaxe chave = valor.\n",
        "\n",
        "Dessa forma, a ordem dos argumentos não importa."
      ]
    },
    {
      "cell_type": "code",
      "metadata": {
        "id": "txoH9CyfkC0U"
      },
      "source": [
        "def pessoas(pessoa1, pessoa2, pessoa3):\n",
        "  print(f'pessoa1 é: {pessoa1}')\n",
        "  print(f'pessoa2 é: {pessoa2}')\n",
        "  print(f'pessoa3 é: {pessoa3}')"
      ],
      "execution_count": null,
      "outputs": []
    },
    {
      "cell_type": "code",
      "metadata": {
        "id": "vTMWxgNpmBpX"
      },
      "source": [
        "pessoas(pessoa3='luis', pessoa2='fabio', pessoa1='carlos')"
      ],
      "execution_count": null,
      "outputs": []
    },
    {
      "cell_type": "code",
      "metadata": {
        "id": "PudFfaYsntzj"
      },
      "source": [
        "pessoas('luis', 'fabio', pessoa3='carlos')"
      ],
      "execution_count": null,
      "outputs": []
    },
    {
      "cell_type": "markdown",
      "metadata": {
        "id": "_9sIlQudqDEI"
      },
      "source": [
        "**Parâmetro com valor padrão**"
      ]
    },
    {
      "cell_type": "code",
      "metadata": {
        "id": "I8EA8LnVmuFC"
      },
      "source": [
        "def nome(nome, nome_meio, sobrenome='santos'):\n",
        "  print(f'Olá: {nome} {nome_meio} {sobrenome}')"
      ],
      "execution_count": null,
      "outputs": []
    },
    {
      "cell_type": "code",
      "metadata": {
        "id": "Jrz62Jgtn8Uu"
      },
      "source": [
        "nome('andré','almeida')"
      ],
      "execution_count": null,
      "outputs": []
    },
    {
      "cell_type": "code",
      "metadata": {
        "id": "NtZl8NX3oAsK"
      },
      "source": [
        "# Para substituir o valor padrão basta passar o argumento desejado na chamada\n",
        "\n",
        "nome('andré','almeida', 'santosss')"
      ],
      "execution_count": null,
      "outputs": []
    },
    {
      "cell_type": "code",
      "metadata": {
        "id": "cqMXJcAjqTZn"
      },
      "source": [
        "# E se eu quiser inverter a ordem dos parâmetros?\n",
        "\n",
        "def nome(nome, sobrenome='santos', nome_meio):\n",
        "  print(f'Olá: {nome} {nome_meio} {sobrenome}')"
      ],
      "execution_count": null,
      "outputs": []
    },
    {
      "cell_type": "markdown",
      "metadata": {
        "id": "bRlZ7H3OrqbI"
      },
      "source": [
        "**Erro na execução acima:** non-default argument follows default argument.\n",
        "\n",
        "Existe uma ordem correta de parâmetros em funções no python: \n",
        "\n",
        "- parâmetro posicional ou parâmetro não padrão, ou seja, (a, b, c)\n",
        "\n",
        "- parâmetro de palavra-chave ou parâmetro padrão, ou seja, (a = 'b', r = 'j')\n",
        "\n",
        "- argumentos arbitrários, ou seja, (*args)\n",
        "\n",
        "- argumentos de palavras-chave arbitrárias, ou seja, (**kwargs)\n",
        "\n",
        "Ex: def example(a, b, c=None, r=\"w\" , d=[], \\*ae,  **ab):"
      ]
    },
    {
      "cell_type": "markdown",
      "metadata": {
        "id": "BSnmITbotU24"
      },
      "source": [
        "**Argumentos de palavras-chave arbitrárias, ou seja, (\\*\\*kwargs)**\n",
        "\n",
        "Se você não souber quantos argumentos de palavra-chave serão passados para sua função, adicione dois asteriscos: ** antes do nome do parâmetro na definição da função.\n",
        "\n",
        "Desta forma, a função irá receber um dicionário de argumentos, e pode acessar os itens de acordo"
      ]
    },
    {
      "cell_type": "code",
      "metadata": {
        "id": "Ch_2DmqurE03"
      },
      "source": [
        "def concatenar_texto(**kwargs):\n",
        "  print(f\"Você digitou: {kwargs['a']} {kwargs['b']}\")"
      ],
      "execution_count": null,
      "outputs": []
    },
    {
      "cell_type": "code",
      "metadata": {
        "id": "9Eb_rwKuuRJK"
      },
      "source": [
        "concatenar_texto(a='meu', b='texto')"
      ],
      "execution_count": null,
      "outputs": []
    },
    {
      "cell_type": "code",
      "metadata": {
        "id": "9VrqMPDeuWc-"
      },
      "source": [
        "# Mais argumentos?\n",
        "\n",
        "concatenar_texto(a='meu', b='texto', c='acabou')"
      ],
      "execution_count": null,
      "outputs": []
    },
    {
      "cell_type": "code",
      "metadata": {
        "id": "P3QUkrnuuhMi"
      },
      "source": [
        "# Vamos criar um loop para pegar todos os argumentos pelas respectivas chaves\n",
        "# Isso nos ajuda a passar por todos os argumentos passados para a função\n",
        "\n",
        "def concatenar_texto(**kwargs):\n",
        "\n",
        "  texto = ''\n",
        "\n",
        "  for arg in kwargs.values():\n",
        "    texto += arg\n",
        "\n",
        "  print(texto)"
      ],
      "execution_count": null,
      "outputs": []
    },
    {
      "cell_type": "code",
      "metadata": {
        "id": "5dkztbLMvGN0"
      },
      "source": [
        "concatenar_texto(a='meu', b='texto', c='acabou', d='aqui')"
      ],
      "execution_count": null,
      "outputs": []
    },
    {
      "cell_type": "markdown",
      "metadata": {
        "id": "3eDHu7__wYY4"
      },
      "source": [
        "**Valores Retornados**\n",
        "\n",
        "Para permitir que uma função retorne um valor, use a instrução return."
      ]
    },
    {
      "cell_type": "code",
      "metadata": {
        "id": "gO1F0HDavIB-"
      },
      "source": [
        "def my_function(x):\n",
        "  return 5 * x"
      ],
      "execution_count": null,
      "outputs": []
    },
    {
      "cell_type": "code",
      "metadata": {
        "id": "i57wqIh4webW"
      },
      "source": [
        "my_function(10)"
      ],
      "execution_count": null,
      "outputs": []
    },
    {
      "cell_type": "code",
      "metadata": {
        "id": "qoIbrhftwnBQ"
      },
      "source": [
        "print(my_function(100))"
      ],
      "execution_count": null,
      "outputs": []
    },
    {
      "cell_type": "code",
      "metadata": {
        "id": "1TRnfEh7w57n"
      },
      "source": [
        "resultado = my_function(1000)"
      ],
      "execution_count": null,
      "outputs": []
    },
    {
      "cell_type": "code",
      "metadata": {
        "id": "edJf7Az0w9-L"
      },
      "source": [
        "print(resultado)"
      ],
      "execution_count": null,
      "outputs": []
    },
    {
      "cell_type": "markdown",
      "metadata": {
        "id": "4QWkCPryxGm0"
      },
      "source": [
        "E se eu quiser retornar mais de um valor?\n",
        "\n",
        "- Com python é possível!"
      ]
    },
    {
      "cell_type": "markdown",
      "metadata": {
        "id": "ULXjwspkvrp4"
      },
      "source": [
        "### **Exemplo**\n",
        "\n",
        "Criando uma função que calcula o diâmetro e circunferência de um círculo."
      ]
    },
    {
      "cell_type": "code",
      "metadata": {
        "id": "tWZaTzEGw_Ij"
      },
      "source": [
        "#import math\n",
        "\n",
        "def circulo(r):\n",
        "  C = 2 * pi * r\n",
        "  D = 2*r\n",
        "\n",
        "  return C, D"
      ],
      "execution_count": null,
      "outputs": []
    },
    {
      "cell_type": "code",
      "metadata": {
        "id": "jBRA9A_IxoUH"
      },
      "source": [
        "C, D = circulo(2)\n",
        "\n",
        "print(f'A circunferência do círculo é {C} e o diâmetro é {D}')"
      ],
      "execution_count": null,
      "outputs": []
    },
    {
      "cell_type": "markdown",
      "metadata": {
        "id": "694nA6zUyhzk"
      },
      "source": [
        "### **Recursão**\n",
        "\n",
        "Python também aceita recursão de função, o que significa que uma função definida pode chamar a si mesma.\n",
        "\n",
        "A recursão é um conceito matemático e de programação comum. Isso significa que uma função chama a si mesma. Isso tem a vantagem de significar que você pode percorrer os dados para chegar a um resultado.\n",
        "\n",
        "Você deve ter muito cuidado com a recursão, pois pode ser muito fácil escrever uma função que nunca termina, ou que usa uma quantidade excessiva de memória ou potência do processador. No entanto, quando escrita corretamente, a recursão pode ser uma abordagem de programação muito eficiente e matematicamente elegante.\n",
        "\n",
        "Neste exemplo, recursion() é uma função que definimos para chamar a si mesma. Usamos a variável k como os dados, que diminui (-1) toda vez que recursamos. A recursão termina quando a condição não é maior que 0 (ou seja, quando é 0).\n",
        "\n",
        "***Pode levar algum tempo para você descobrir como isso funciona exatamente; a melhor maneira de descobrir é testando e modificando! :)***"
      ]
    },
    {
      "cell_type": "code",
      "metadata": {
        "id": "KSkozQgnxyhd"
      },
      "source": [
        "def recursion(k):\n",
        "  if(k > 0):\n",
        "    result = k + recursion(k - 1)\n",
        "    print(result)\n",
        "  else:\n",
        "    result = 0\n",
        "  return result"
      ],
      "execution_count": null,
      "outputs": []
    },
    {
      "cell_type": "code",
      "metadata": {
        "id": "GfcT9TaXzKWY"
      },
      "source": [
        "print(\"Resultado da recursão\")\n",
        "recursion(4)"
      ],
      "execution_count": null,
      "outputs": []
    },
    {
      "cell_type": "markdown",
      "metadata": {
        "id": "F1sQL0M23STf"
      },
      "source": [
        "result = 4 + recursion(3)\n",
        "\n",
        "result = 3 + recursion(2)\n",
        "\n",
        "result = 2 + recursion(1)\n",
        "\n",
        "result = 1 + recursion(0) -> 1 + 0 = 1"
      ]
    },
    {
      "cell_type": "markdown",
      "metadata": {
        "id": "L81Ly7TS4dEO"
      },
      "source": [
        "## **Desafio**\n",
        "\n",
        "A função abaixo calcula o fatorial de um número.\n",
        "\n",
        "Ex: O fatorial de 6 é: 6\\*5\\*4\\*3\\*2\\*1\n",
        "\n",
        "**Crie uma função chamada fatorial_rec que realize o mesmo cáculo de fatorial usando recursão, e não um loop. A função deve retornar o valor final calculado.**"
      ]
    },
    {
      "cell_type": "code",
      "metadata": {
        "id": "83t_oX03zRay"
      },
      "source": [
        "def fatorial(numero):\n",
        "    resultado = 1\n",
        "\n",
        "    for i in range(1, numero+1):\n",
        "        resultado = resultado * i\n",
        "\n",
        "    return resultado"
      ],
      "execution_count": null,
      "outputs": []
    },
    {
      "cell_type": "code",
      "metadata": {
        "id": "Xisatxx14sLZ"
      },
      "source": [
        "fatorial(6)"
      ],
      "execution_count": null,
      "outputs": []
    },
    {
      "cell_type": "code",
      "metadata": {
        "id": "48upYT6z4tao"
      },
      "source": [
        ""
      ],
      "execution_count": null,
      "outputs": []
    },
    {
      "cell_type": "code",
      "metadata": {
        "id": "3rdlTfOo4wc1"
      },
      "source": [
        "fatorial_rec(6)"
      ],
      "execution_count": null,
      "outputs": []
    },
    {
      "cell_type": "code",
      "metadata": {
        "id": "WUhbkIBI4x9N"
      },
      "source": [
        ""
      ],
      "execution_count": null,
      "outputs": []
    },
    {
      "cell_type": "markdown",
      "metadata": {
        "id": "8b_vpspf_Jvp"
      },
      "source": [
        "## **Python Módulos**\n",
        "\n",
        "Considere um módulo igual a uma biblioteca de código.\n",
        "\n",
        "Um arquivo que contém um conjunto de funções que você deseja incluir em seu aplicativo.\n",
        "\n",
        "**Com a modularização podemos:**\n",
        "\n",
        "- Dividir um programa grande em pequenos pedaços\n",
        "\n",
        "- Aumentar a legibilidade\n",
        "\n",
        "- Facilitar a manutenção\n",
        "\n",
        "- Reutilizar os módulos em projetos diferentes\n",
        "\n",
        "- Ocultar os códigos detalhados"
      ]
    },
    {
      "cell_type": "markdown",
      "metadata": {
        "id": "hxl5Lyh-_bsF"
      },
      "source": [
        "**Criar um Módulo**\n",
        "\n",
        "Para criar um módulo basta salvar o código desejado em um arquivo com a extensão **.py**\n",
        "\n",
        "**Nota:** No google colab trabalhamos com as células do notebook e esses arquivos são salvos no formato **.ipynb**. Logo, precisamos usar um editor externo para criar um arquivo .py, carregá-lo na disco virtual do colab e usá-lo como um módulo para entendermos o que é um módulo."
      ]
    },
    {
      "cell_type": "markdown",
      "metadata": {
        "id": "6Lunak-aAZYZ"
      },
      "source": [
        "**Nota:** Ao usar uma função de um módulo, use a sintaxe: module_name.function_name."
      ]
    },
    {
      "cell_type": "code",
      "metadata": {
        "id": "OGkIdPoC_QI3"
      },
      "source": [
        "#meumodulo"
      ],
      "execution_count": null,
      "outputs": []
    },
    {
      "cell_type": "code",
      "metadata": {
        "id": "tBODNeQIo5gB"
      },
      "source": [
        "meumodulo.main()"
      ],
      "execution_count": null,
      "outputs": []
    },
    {
      "cell_type": "code",
      "metadata": {
        "id": "I_j0b6iv_2-S"
      },
      "source": [
        "meumodulo.ola(\"André\")"
      ],
      "execution_count": null,
      "outputs": []
    },
    {
      "cell_type": "code",
      "metadata": {
        "id": "LrUSaS1ODbf2"
      },
      "source": [
        "meumodulo.tudobem(nome='André', tudobem=True)"
      ],
      "execution_count": null,
      "outputs": []
    },
    {
      "cell_type": "markdown",
      "metadata": {
        "id": "pOtoTc4RNTuA"
      },
      "source": [
        "Vamos ver um exemplo interessante com visão computacional rodando direto no notebook, fora do colab.\n",
        "\n",
        "**Exemplo:**\n",
        "\n",
        "Módulo: 'torch_modulo.py' carrega uma rede neural de detecção de objetos;\n",
        "\n",
        "Script: 'teste_frcnn.py' usa o módulo para carregar o objeto da rede e realizar as detecções em uma imagem.\n"
      ]
    },
    {
      "cell_type": "code",
      "metadata": {
        "id": "eD-dlkVyNZC-"
      },
      "source": [
        ""
      ],
      "execution_count": null,
      "outputs": []
    },
    {
      "cell_type": "markdown",
      "metadata": {
        "id": "zndpilbqRj4A"
      },
      "source": [
        "## **Python Classes - Orientação a objetos**"
      ]
    },
    {
      "cell_type": "markdown",
      "metadata": {
        "id": "3SiJFViuSphO"
      },
      "source": [
        "Até aqui vimos coisas como sequências de código, condições, repetições. Esses tipos básicos de estruturas compõem a programação chamada de **programação estruturada**.\n",
        "\n",
        "- Na programação estruturada, um programa é tipicamente escrito em uma única rotina (ou função) podendo, é claro, ser quebrado em subrotinas. Mas o fluxo do programa continua o mesmo, como se pudéssemos copiar e colar o código das subrotinas diretamente nas rotinas que as chamam, de tal forma que, no final, só haja uma grande rotina que execute todo o programa.\n",
        "\n",
        "Na **programação orientada a objetos** o intuito é aproximar o manuseio das estruturas de um programa ao manuseio das coisas do mundo real, daí o nome **\"objeto\"** como uma algo genérico, que pode representar qualquer coisa tangível.\n",
        "\n",
        "['OOP é um recurso de linguagem de programação que permite agrupar variáveis e funções em novos tipos de dados, chamados classes, a partir dos quais você pode criar objetos. Organizando seu código em classes, você pode dividir um programa monolítico em partes menores que são mais fáceis de entender e depurar.'](http://inventwithpython.com/beyond/chapter15.html)"
      ]
    },
    {
      "cell_type": "markdown",
      "metadata": {
        "id": "C36MsFJnUtJu"
      },
      "source": [
        "- Python é uma linguagem de programação orientada a objetos.\n",
        "\n",
        "- Quase tudo em Python é um objeto, com suas propriedades e métodos.\n",
        "\n",
        "- Uma classe é como um construtor de objeto ou um \"projeto\" para a criação de objetos."
      ]
    },
    {
      "cell_type": "markdown",
      "metadata": {
        "id": "-1iUb8ilXTXz"
      },
      "source": [
        "### **O que são classes e objetos?**\n",
        "\n",
        "Imagine que você comprou um carro recentemente e decide modelar esse carro usando programação orientada a objetos. O seu carro tem as características que você estava procurando: um motor 2.0 híbrido, azul escuro, quatro portas, câmbio automático etc. Ele também possui comportamentos que, provavelmente, foram o motivo de sua compra, como acelerar, desacelerar, acender os faróis, buzinar e tocar música. Podemos dizer que o carro novo é um objeto, onde suas características são seus atributos (dados atrelados ao objeto) e seus comportamentos são ações ou métodos.\n",
        "\n",
        "Seu carro é um objeto seu mas na loja onde você o comprou existiam vários outros, muito similares, com quatro rodas, volante, câmbio, retrovisores, faróis, dentre outras partes. Observe que, apesar do seu carro ser único (por exemplo, possui um registro único no Departamento de Trânsito), podem existir outros com exatamente os mesmos atributos, ou parecidos, ou mesmo totalmente diferentes, mas que ainda são considerados carros. Podemos dizer então que seu objeto pode ser classificado (isto é, seu objeto pertence à uma classe) como um carro, e que seu carro nada mais é que uma instância dessa classe chamada \"carro\".\n",
        "\n",
        "Assim, abstraindo um pouco a analogia, uma classe é um conjunto de características e comportamentos que definem o conjunto de objetos pertencentes à essa classe. Repare que a classe em si é um conceito abstrato, como um molde, que se torna concreto e palpável através da criação de um objeto. Chamamos essa criação de instanciação da classe, como se estivéssemos usando esse molde (classe) para criar um objeto.\n",
        "\n",
        "Fonte: [POO: o que é programação orientada a objetos? - Alura](https://www.alura.com.br/artigos/poo-programacao-orientada-a-objetos?gclid=CjwKCAjwq9mLBhB2EiwAuYdMtZ84v3PxFnYSEH3qxiDMf-nIuno_9lLT-KO_tgaPOH8IlXCV1g3JkhoC-mkQAvD_BwE)"
      ]
    },
    {
      "cell_type": "markdown",
      "metadata": {
        "id": "9wyKqjBSX-BP"
      },
      "source": [
        "### **Criando uma classe**\n",
        "\n",
        "Para criar uma classe, use a palavra-chave **class**:"
      ]
    },
    {
      "cell_type": "code",
      "metadata": {
        "id": "39keh4sORm0O"
      },
      "source": [
        "class MyClass:\n",
        "  x = 5"
      ],
      "execution_count": null,
      "outputs": []
    },
    {
      "cell_type": "markdown",
      "metadata": {
        "id": "uOWeRgGtYLOM"
      },
      "source": [
        "Criando um objeto\n",
        "\n",
        "Agora podemos usar a classe chamada MyClass para criar objetos:"
      ]
    },
    {
      "cell_type": "code",
      "metadata": {
        "id": "4eBmKjI9YFjG"
      },
      "source": [
        "p1 = MyClass()"
      ],
      "execution_count": null,
      "outputs": []
    },
    {
      "cell_type": "code",
      "metadata": {
        "id": "Ee1lXZk8YQu9"
      },
      "source": [
        "print(p1.x)"
      ],
      "execution_count": null,
      "outputs": []
    },
    {
      "cell_type": "markdown",
      "metadata": {
        "id": "k6-EuqWbYbnZ"
      },
      "source": [
        "**A função \\_\\_init\\_\\_():**\n",
        "\n",
        "Os exemplos acima são classes e objetos em sua forma mais simples e não são realmente úteis em aplicativos da vida real.\n",
        "\n",
        "Para entender o significado das classes, temos que entender a função interna \\_\\_init\\_\\_().\n",
        "\n",
        "Todas as classes possuem uma função chamada \\_\\_init\\_\\_(), que sempre é executada quando a classe está sendo iniciada.\n",
        "\n",
        "Use a função \\_\\_init\\_\\_() para atribuir valores às propriedades do objeto ou outras operações que são necessárias quando o objeto está sendo criado:"
      ]
    },
    {
      "cell_type": "markdown",
      "metadata": {
        "id": "p1a8O7SCY8za"
      },
      "source": [
        "Ex: Crie uma classe chamada Pessoa, use a função \\_\\_init\\_\\_() para atribuir valores para nome e idade:"
      ]
    },
    {
      "cell_type": "code",
      "metadata": {
        "id": "MS1Y3Ij4YSJY"
      },
      "source": [
        "class Pessoa:\n",
        "  def __init__(self, nome, idade):\n",
        "    self.nome = nome\n",
        "    self.idade = idade\n",
        "\n",
        "p1 = Pessoa(\"John\", 36)\n",
        "\n",
        "print(p1.nome)\n",
        "print(p1.idade)"
      ],
      "execution_count": null,
      "outputs": []
    },
    {
      "cell_type": "code",
      "metadata": {
        "id": "DXJT-H3lZIe3"
      },
      "source": [
        "# E se eu quiser criar outro objeto da mesma classe:\n",
        "\n",
        "p2 = Pessoa('Maria', 25)\n",
        "\n",
        "print(p2.nome)\n",
        "print(p2.idade)"
      ],
      "execution_count": null,
      "outputs": []
    },
    {
      "cell_type": "markdown",
      "metadata": {
        "id": "4kbHPYljZbsA"
      },
      "source": [
        "**Nota:** A função \\_\\_init\\_\\_() é chamada automaticamente toda vez que a classe está sendo usada para criar um novo objeto."
      ]
    },
    {
      "cell_type": "markdown",
      "metadata": {
        "id": "kbprmAw2ZiTa"
      },
      "source": [
        "**Métodos de Objeto**\n",
        "\n",
        "Os objetos também podem conter métodos. Métodos em objetos são funções que pertencem ao objeto.\n",
        "\n",
        "Vamos criar um método na classe Pessoa:"
      ]
    },
    {
      "cell_type": "code",
      "metadata": {
        "id": "msnJsJKgZUsY"
      },
      "source": [
        "class Pessoa:\n",
        "  def __init__(self, nome, idade):\n",
        "    self.nome = nome\n",
        "    self.idade = idade\n",
        "\n",
        "  def meuNome(self):\n",
        "    print(f'Olá, meu nome é {self.nome}. Eu tenho {self.idade} anos.')"
      ],
      "execution_count": null,
      "outputs": []
    },
    {
      "cell_type": "markdown",
      "metadata": {
        "id": "xYt7s9iKZ8A2"
      },
      "source": [
        "**Nota:** o parâmetro **self** é uma referência à instância atual da classe e é usado para acessar variáveis que pertencem à classe. Ele tem que ser o primeiro parâmetro de qualquer função da classe."
      ]
    },
    {
      "cell_type": "code",
      "metadata": {
        "id": "fhgpPfZoZ7UZ"
      },
      "source": [
        "# Cria objeto\n",
        "p1 = Pessoa('André', '28')\n",
        "\n",
        "# chama método do objeto\n",
        "p1.meuNome()"
      ],
      "execution_count": null,
      "outputs": []
    },
    {
      "cell_type": "markdown",
      "metadata": {
        "id": "uq1GC0_Ha1Kc"
      },
      "source": [
        "**Modificando propriedades dos objetos**"
      ]
    },
    {
      "cell_type": "code",
      "metadata": {
        "id": "ty7ipKbnaRcM"
      },
      "source": [
        "# Alterando a variável de p1\n",
        "\n",
        "p1.idade = 25"
      ],
      "execution_count": null,
      "outputs": []
    },
    {
      "cell_type": "code",
      "metadata": {
        "id": "zqQoQOTka6Uf"
      },
      "source": [
        "# chama método do objeto\n",
        "p1.meuNome()"
      ],
      "execution_count": null,
      "outputs": []
    },
    {
      "cell_type": "markdown",
      "metadata": {
        "id": "leYcsDl3gtme"
      },
      "source": [
        "### **Herança**\n",
        "\n",
        "A herança nos permite definir uma classe que herda todos os métodos e propriedades de outra classe.\n",
        "\n",
        "A **classe pai** é a classe da qual está sendo herdada, também chamada de classe base.\n",
        "\n",
        "A **classe filha** é a classe que herda de outra classe, também chamada de classe derivada."
      ]
    },
    {
      "cell_type": "markdown",
      "metadata": {
        "id": "tD-vcliXhlbz"
      },
      "source": [
        "**Criando uma classe pai**"
      ]
    },
    {
      "cell_type": "code",
      "metadata": {
        "id": "5U7y9I6xa-xI"
      },
      "source": [
        "class Pessoa:\n",
        "  def __init__(self, fname, lname):\n",
        "    self.firstname = fname\n",
        "    self.lastname = lname\n",
        "\n",
        "  def printname(self):\n",
        "    print(self.firstname, self.lastname)"
      ],
      "execution_count": null,
      "outputs": []
    },
    {
      "cell_type": "code",
      "metadata": {
        "id": "7lkGTYAchVOZ"
      },
      "source": [
        "x = Pessoa('André', 'Almeida')\n",
        "x.printname()"
      ],
      "execution_count": null,
      "outputs": []
    },
    {
      "cell_type": "markdown",
      "metadata": {
        "id": "0VMtaUdthhIX"
      },
      "source": [
        "**Criando a classe filha**\n",
        "\n",
        "Para criar uma classe que herda a funcionalidade de outra classe, **envie a classe pai como um parâmetro ao criar a classe filha**:"
      ]
    },
    {
      "cell_type": "code",
      "metadata": {
        "id": "D1oF7TqHhb8h"
      },
      "source": [
        "class Estudante(Pessoa):\n",
        "  def __init__(self, fname, lname):\n",
        "    #Adicione as propriedades aqui."
      ],
      "execution_count": null,
      "outputs": []
    },
    {
      "cell_type": "markdown",
      "metadata": {
        "id": "Z68oilT0h7p_"
      },
      "source": [
        "**Nota:** A função __init __() do filho substitui a herança da função __init __() dos pais."
      ]
    },
    {
      "cell_type": "markdown",
      "metadata": {
        "id": "mojkBRnqihtW"
      },
      "source": [
        "Python também tem uma função **super()** que fará com que a classe filha herde todos os métodos e propriedades de seu pai:"
      ]
    },
    {
      "cell_type": "code",
      "metadata": {
        "id": "FuB18X1Vh_xD"
      },
      "source": [
        "class Estudante(Pessoa):\n",
        "  def __init__(self, fname, lname):\n",
        "    super().__init__(fname, lname)"
      ],
      "execution_count": null,
      "outputs": []
    },
    {
      "cell_type": "markdown",
      "metadata": {
        "id": "QGP0XfsRiqwl"
      },
      "source": [
        "**Nota:** Ao usar a função super(), o objeto herdará automaticamente os métodos e propriedades de seu pai."
      ]
    },
    {
      "cell_type": "markdown",
      "metadata": {
        "id": "dre4ZR-ui6qM"
      },
      "source": [
        "**Adicionando propriedades**"
      ]
    },
    {
      "cell_type": "code",
      "metadata": {
        "id": "OqfIRof9ikpZ"
      },
      "source": [
        "class Estudante(Pessoa):\n",
        "  def __init__(self, fname, lname, year):\n",
        "    super().__init__(fname, lname)\n",
        "    \n",
        "    self.ano_graduacao = year"
      ],
      "execution_count": null,
      "outputs": []
    },
    {
      "cell_type": "code",
      "metadata": {
        "id": "5sKgP7MGjUn3"
      },
      "source": [
        "x = Estudante(\"Mike\", \"Olsen\", 2019)"
      ],
      "execution_count": null,
      "outputs": []
    },
    {
      "cell_type": "code",
      "metadata": {
        "id": "5MgOts4NjU7T"
      },
      "source": [
        "print(x)"
      ],
      "execution_count": null,
      "outputs": []
    },
    {
      "cell_type": "code",
      "metadata": {
        "id": "JK6a1VDHjXlj"
      },
      "source": [
        "print(x.ano_graduacao)"
      ],
      "execution_count": null,
      "outputs": []
    },
    {
      "cell_type": "code",
      "metadata": {
        "id": "KSbgrTiOjfcb"
      },
      "source": [
        "print(x.firstname)"
      ],
      "execution_count": null,
      "outputs": []
    },
    {
      "cell_type": "markdown",
      "metadata": {
        "id": "YnghoxfQk8kH"
      },
      "source": [
        "**Adicionando métodos**"
      ]
    },
    {
      "cell_type": "code",
      "metadata": {
        "id": "cHhgy4oIjlTK"
      },
      "source": [
        "class Estudante(Pessoa):\n",
        "  def __init__(self, fname, lname, year):\n",
        "    super().__init__(fname, lname)\n",
        "    self.ano_graduacao = year\n",
        "\n",
        "  def bemvindo(self):\n",
        "    print(f\"Bem vindo {self.firstname} {self.lastname} à classe de {self.ano_graduacao}.\")"
      ],
      "execution_count": null,
      "outputs": []
    },
    {
      "cell_type": "code",
      "metadata": {
        "id": "vtkXNCuSlXdz"
      },
      "source": [
        "estudante = Estudante('André', 'Almeida', 2021)"
      ],
      "execution_count": null,
      "outputs": []
    },
    {
      "cell_type": "code",
      "metadata": {
        "id": "Csf_2Xg2lfv4"
      },
      "source": [
        "estudante.bemvindo()"
      ],
      "execution_count": null,
      "outputs": []
    },
    {
      "cell_type": "code",
      "metadata": {
        "id": "CrD7nCH7lz5n"
      },
      "source": [
        "estudante.printname()"
      ],
      "execution_count": null,
      "outputs": []
    },
    {
      "cell_type": "markdown",
      "metadata": {
        "id": "fGhePam-lVTn"
      },
      "source": [
        "### **Polimorfismo** \n",
        "\n",
        "Se você adicionar um método na classe filha com o mesmo nome de uma função na classe pai, a herança do método pai será substituída.\n",
        "\n",
        "Estamos falando de uma interface única para operar sobre objetos de classes distintas."
      ]
    },
    {
      "cell_type": "code",
      "metadata": {
        "id": "tSuzwwbIlMK_"
      },
      "source": [
        "class Estudante(Pessoa):\n",
        "  def __init__(self, fname, lname, year):\n",
        "    super().__init__(fname, lname)\n",
        "    self.ano_graduacao = year\n",
        "\n",
        "  def bemvindo(self):\n",
        "    print(f\"Bem vindo {self.firstname} {self.lastname} à classe de {self.ano_graduacao}.\")\n",
        "\n",
        "  def printname(self):\n",
        "    print(f'{self.firstname} {self.lastname}, você é um aluno.')"
      ],
      "execution_count": null,
      "outputs": []
    },
    {
      "cell_type": "code",
      "metadata": {
        "id": "gHAdrAfdmKyQ"
      },
      "source": [
        "estudante = Estudante('André', 'Almeida', 2021)"
      ],
      "execution_count": null,
      "outputs": []
    },
    {
      "cell_type": "code",
      "metadata": {
        "id": "KJUabj6ymGT8"
      },
      "source": [
        "estudante.printname()"
      ],
      "execution_count": null,
      "outputs": []
    },
    {
      "cell_type": "code",
      "metadata": {
        "id": "Gte_DnfRmHot"
      },
      "source": [
        ""
      ],
      "execution_count": null,
      "outputs": []
    },
    {
      "cell_type": "markdown",
      "metadata": {
        "id": "nmYTwSjsvEHA"
      },
      "source": [
        "### **Exemplo:**\n",
        "\n",
        "Classe para representar o círculo do exemplo que vimos com função."
      ]
    },
    {
      "cell_type": "code",
      "metadata": {
        "id": "o5x1IUF6vLat"
      },
      "source": [
        "import math\n",
        "\n",
        "class Circulo():\n",
        "  def __init__(self, nome, raio):\n",
        "    self.raio = raio\n",
        "    self.nome = nome\n",
        "\n",
        "  def calcula_perimetro(self):\n",
        "    #print(f'O perímetro do círculo é {self.perimetro}.')\n",
        "    return 2*math.pi*self.raio\n",
        "    \n",
        "\n",
        "  def calcula_diametro(self):\n",
        "    #print(f'O diâmetro do círculo é: {self.diametro}')\n",
        "    return 2*self.raio\n"
      ],
      "execution_count": null,
      "outputs": []
    },
    {
      "cell_type": "code",
      "metadata": {
        "id": "5cePOJptwuQ-"
      },
      "source": [
        "c1 = Circulo('c1', 2)\n",
        "\n",
        "print(f'O perímetro de {c1.nome} é {c1.calcula_perimetro()}')\n",
        "print(f'O diamtero de {c1.nome} é {c1.calcula_diametro()}')"
      ],
      "execution_count": null,
      "outputs": []
    },
    {
      "cell_type": "code",
      "metadata": {
        "id": "4UADnTKawzpT"
      },
      "source": [
        "c1.raio = 3"
      ],
      "execution_count": null,
      "outputs": []
    },
    {
      "cell_type": "code",
      "metadata": {
        "id": "CIsNjqVYyufE"
      },
      "source": [
        "print(f'O perímetro de {c1.nome} é {c1.calcula_perimetro()}')\n",
        "print(f'O diamtero de {c1.nome} é {c1.calcula_diametro()}')"
      ],
      "execution_count": null,
      "outputs": []
    },
    {
      "cell_type": "markdown",
      "metadata": {
        "id": "4cX2sV_3zRIl"
      },
      "source": [
        "### **Encapsulamento**\n",
        "\n",
        "Variáveis de instância “privadas” que não podem ser acessadas, exceto de dentro de um objeto, não existem no Python.\n",
        "\n",
        "O encapsulamento define a proteção de acesso aos atributos e métodos de uma classe.\n",
        "\n",
        "**Como bloquear o acesso aos dados diretamente?**"
      ]
    },
    {
      "cell_type": "code",
      "metadata": {
        "id": "x3RTMc8Oy5et"
      },
      "source": [
        "import math\n",
        "\n",
        "class Circulo():\n",
        "  def __init__(self, nome, raio):\n",
        "    self.__raio = raio\n",
        "    self.__nome = nome\n",
        "\n",
        "  def calcula_perimetro(self):\n",
        "    #print(f'O perímetro do círculo é {self.perimetro}.')\n",
        "    return 2*math.pi*self.__raio\n",
        "    \n",
        "\n",
        "  def calcula_diametro(self):\n",
        "    #print(f'O diâmetro do círculo é: {self.diametro}')\n",
        "    return 2*self.__raio\n",
        "\n",
        "\n",
        "  def setNome(self, nome):\n",
        "    self.__nome = nome\n",
        "\n",
        "  def getNome(self):\n",
        "    return self.__nome\n",
        "\n",
        "  def setRaio(self, raio):\n",
        "    self.__raio = raio\n",
        "\n",
        "  def getRaio(self):\n",
        "    return self.__raio"
      ],
      "execution_count": null,
      "outputs": []
    },
    {
      "cell_type": "code",
      "metadata": {
        "id": "jGyoIrrRy7Qo"
      },
      "source": [
        "c1 = Circulo('c1', 2)\n",
        "\n",
        "print(f'O perímetro de {c1.getNome()} é {c1.calcula_perimetro()}')\n",
        "print(f'O diamtero de {c1.getNome()} é {c1.calcula_diametro()}')"
      ],
      "execution_count": null,
      "outputs": []
    },
    {
      "cell_type": "code",
      "metadata": {
        "id": "PmBfPyrXy-co"
      },
      "source": [
        "c1.raio = 3"
      ],
      "execution_count": null,
      "outputs": []
    },
    {
      "cell_type": "code",
      "metadata": {
        "id": "5PYgWPm721aI"
      },
      "source": [
        "print(f'O perímetro de {c1.getNome()} é {c1.calcula_perimetro()}')\n",
        "print(f'O diamtero de {c1.getNome()} é {c1.calcula_diametro()}')"
      ],
      "execution_count": null,
      "outputs": []
    },
    {
      "cell_type": "markdown",
      "metadata": {
        "id": "RAuJMvNF7glQ"
      },
      "source": [
        "Para mais informações sobre classes verifique a [documentação](https://docs.python.org/3/tutorial/classes.html) "
      ]
    },
    {
      "cell_type": "code",
      "metadata": {
        "id": "5x4mpyR527iJ"
      },
      "source": [
        ""
      ],
      "execution_count": null,
      "outputs": []
    },
    {
      "cell_type": "markdown",
      "metadata": {
        "id": "H57NfwmbAOVh"
      },
      "source": [
        "## **Manipulação de arquivos arquivos**\n",
        "\n",
        "Python tem várias funções para criar, ler, atualizar e excluir arquivos."
      ]
    },
    {
      "cell_type": "markdown",
      "metadata": {
        "id": "BbY-SJorBVgF"
      },
      "source": [
        "### **Manipulação de arquivos de texto .txt**\n",
        "\n",
        "A função principal para trabalhar com arquivos em Python é a função **open()**.\n",
        "\n",
        "A função open() tem dois parâmetros; nome do arquivo e modo.\n",
        "\n",
        "Existem quatro métodos (modos) diferentes para abrir um arquivo:\n",
        "\n",
        "- \"r\" - Leitura - abre um arquivo para leitura, e gera um erro se o arquivo não existir;\n",
        "\n",
        "- \"a\" - Anexar - abre um arquivo para anexar, e cria o arquivo se ele não existir;\n",
        "\n",
        "- \"w\" - Gravar - abre um arquivo para gravação, e cria o arquivo se ele não existir;\n",
        "\n",
        "- \"x\" - Criar - Cria o arquivo especificado, e retorna um erro se o arquivo existir."
      ]
    },
    {
      "cell_type": "markdown",
      "metadata": {
        "id": "mb0LeTz5CSup"
      },
      "source": [
        "**Sintaxe**\n",
        "\n",
        "Para abrir um arquivo para leitura, basta especificar o nome do arquivo:"
      ]
    },
    {
      "cell_type": "code",
      "metadata": {
        "id": "ysKNS_LNBOTX"
      },
      "source": [
        "f = open(\"arquivoTexto.txt\")"
      ],
      "execution_count": null,
      "outputs": []
    },
    {
      "cell_type": "code",
      "metadata": {
        "id": "U7dtXOJoC9aA"
      },
      "source": [
        "f"
      ],
      "execution_count": null,
      "outputs": []
    },
    {
      "cell_type": "markdown",
      "metadata": {
        "id": "kruZ3hh2DlEJ"
      },
      "source": [
        "A função open() retorna um objeto de arquivo, que tem um método **read()** para ler o conteúdo do arquivo:"
      ]
    },
    {
      "cell_type": "code",
      "metadata": {
        "id": "xkbLLc3cDDhj"
      },
      "source": [
        "print(f.read())"
      ],
      "execution_count": null,
      "outputs": []
    },
    {
      "cell_type": "markdown",
      "metadata": {
        "id": "MoNBiEz7ERh7"
      },
      "source": [
        "Após ler todo o texto use o método **close()** para liberar memória usada para o objeto."
      ]
    },
    {
      "cell_type": "code",
      "metadata": {
        "id": "J9UTGHqMEV3y"
      },
      "source": [
        "f.close()"
      ],
      "execution_count": null,
      "outputs": []
    },
    {
      "cell_type": "markdown",
      "metadata": {
        "id": "tKZAEvMwDy_V"
      },
      "source": [
        "Por padrão, o método **read()** retorna todo o texto, mas você também pode especificar quantos caracteres deseja retornar:"
      ]
    },
    {
      "cell_type": "code",
      "metadata": {
        "id": "WcmvAPoqEHb7"
      },
      "source": [
        "f = open(\"arquivoTexto.txt\")"
      ],
      "execution_count": null,
      "outputs": []
    },
    {
      "cell_type": "code",
      "metadata": {
        "id": "2BMUq4j5DgAa"
      },
      "source": [
        "print(f.read(5))"
      ],
      "execution_count": null,
      "outputs": []
    },
    {
      "cell_type": "code",
      "metadata": {
        "id": "X_Q5_BtGD31p"
      },
      "source": [
        "f.close()"
      ],
      "execution_count": null,
      "outputs": []
    },
    {
      "cell_type": "markdown",
      "metadata": {
        "id": "KFWoQycNEzfP"
      },
      "source": [
        "**Leia as linhas**\n",
        "\n",
        "Você pode retornar uma linha usando o método **readline()**:"
      ]
    },
    {
      "cell_type": "code",
      "metadata": {
        "id": "wWmBcBmxElX2"
      },
      "source": [
        "f = open(\"arquivoTexto.txt\", \"r\")\n",
        "print(f.readline())\n",
        "f.close()"
      ],
      "execution_count": null,
      "outputs": []
    },
    {
      "cell_type": "code",
      "metadata": {
        "id": "TXg0KAniE49q"
      },
      "source": [
        "f = open(\"arquivoTexto.txt\", \"r\")\n",
        "print(f.readline())\n",
        "print(f.readline())\n",
        "print(f.readline())\n",
        "f.close()"
      ],
      "execution_count": null,
      "outputs": []
    },
    {
      "cell_type": "markdown",
      "metadata": {
        "id": "O3FBvAz2FD-t"
      },
      "source": [
        "Podemos usar um loop para percorrer todas as linhas, linha por linha:"
      ]
    },
    {
      "cell_type": "code",
      "metadata": {
        "id": "od0_HaiNE-7F"
      },
      "source": [
        "f = open(\"arquivoTexto.txt\", \"r\")\n",
        "\n",
        "for linha in f:\n",
        "  print(linha)\n",
        "  \n",
        "f.close()"
      ],
      "execution_count": null,
      "outputs": []
    },
    {
      "cell_type": "markdown",
      "metadata": {
        "id": "h1Cgeb9YF4av"
      },
      "source": [
        "**Gravando em um arquivo existente**\n",
        "\n",
        "Para gravar em um arquivo existente, você deve adicionar o modo à função open():\n",
        "\n",
        "\"a\" - será anexado ao final do arquivo\n",
        "\n",
        "\"w\" - sobrescreverá qualquer conteúdo existente"
      ]
    },
    {
      "cell_type": "code",
      "metadata": {
        "id": "eQvXIxLuFKyj"
      },
      "source": [
        "f = open(\"arquivoTexto.txt\", \"a\")\n",
        "f.write(\"\\nAluno: \")\n",
        "f.close()\n",
        "\n",
        "#open and read the file after the appending:\n",
        "f = open(\"arquivoTexto.txt\", \"r\")\n",
        "print(f.read())"
      ],
      "execution_count": null,
      "outputs": []
    },
    {
      "cell_type": "markdown",
      "metadata": {
        "id": "xzVa89StHddi"
      },
      "source": [
        "Para mais informações, veja a [documentação](https://docs.python.org/3/tutorial/inputoutput.html#reading-and-writing-files)."
      ]
    },
    {
      "cell_type": "markdown",
      "metadata": {
        "id": "aEOSUzdxHjGF"
      },
      "source": [
        "### **E como trabalhar com arquivos .csv?**\n",
        "\n",
        "Vamos usar a biblioteca csv!"
      ]
    },
    {
      "cell_type": "markdown",
      "metadata": {
        "id": "xRAIyzVgI8WO"
      },
      "source": [
        "O Google colab carrega na pasta sample_data dois arquivos .csv por padrão. Vamos usra o arquivo california_housing_train.csv"
      ]
    },
    {
      "cell_type": "code",
      "metadata": {
        "id": "rg2Tcr4eGKLC"
      },
      "source": [
        "import csv"
      ],
      "execution_count": null,
      "outputs": []
    },
    {
      "cell_type": "code",
      "metadata": {
        "id": "xl0yppPIHXDk"
      },
      "source": [
        "with open('sample_data/california_housing_test.csv', mode='r') as csv_file:\n",
        "  csv_reader = csv.reader(csv_file, delimiter=',')\n",
        "  for row in csv_reader:\n",
        "    print(row)"
      ],
      "execution_count": null,
      "outputs": []
    },
    {
      "cell_type": "markdown",
      "metadata": {
        "id": "5tHRSih1LItF"
      },
      "source": [
        "Cada linha retornada pela função do **leitor** é uma lista de elementos String contendo os dados encontrados removendo os delimitadores. A primeira linha retornada contém os nomes das colunas."
      ]
    },
    {
      "cell_type": "markdown",
      "metadata": {
        "id": "KVHhOG37MHQn"
      },
      "source": [
        "Se os dados são lidos como lista, vamos salvá-los em uma lista."
      ]
    },
    {
      "cell_type": "code",
      "metadata": {
        "id": "B2BKZVJ6KYYO"
      },
      "source": [
        "dados = list()\n",
        "print(f'dados: {dados}')\n",
        "\n",
        "with open('sample_data/california_housing_test.csv', mode='r') as csv_file:\n",
        "  csv_reader = csv.reader(csv_file, delimiter=',')\n",
        "  for row in csv_reader:\n",
        "    dados.append(row)\n",
        "\n",
        "print(f'dados: {dados}')"
      ],
      "execution_count": null,
      "outputs": []
    },
    {
      "cell_type": "markdown",
      "metadata": {
        "id": "15OswFmIR6tU"
      },
      "source": [
        "**Repare que:** com várias listas dentro de uma lista externa temos algo parecido com isso:\n",
        "\n",
        "[[dados da lista 1],\n",
        "\n",
        " [dados da lista 2],\n",
        "\n",
        " [dados da lista 3]]\n",
        "\n",
        " Isso se parece com o formato de uma matriz?\n",
        "\n",
        " Sim!\n",
        "\n",
        "** É dessa forma que criamos as matrizes com listas no python.**\n",
        "\n",
        "Para o processamento de dados númericos desse tipo, usa-se a biblioteca numpy que cria a matriz com um formato parecido com esse, mas o tipo do dado é um array e não uma lista. \n",
        "- É um dado otimizado para processamento numérico."
      ]
    },
    {
      "cell_type": "code",
      "metadata": {
        "id": "1XcLZkkxMTKC"
      },
      "source": [
        "print(f'Há {len(dados)-1} registros no arquivo.')"
      ],
      "execution_count": null,
      "outputs": []
    },
    {
      "cell_type": "code",
      "metadata": {
        "id": "rWX4W0w2NEOQ"
      },
      "source": [
        "print(f'O cabeçalho do arquivo é: {dados[0]}')"
      ],
      "execution_count": null,
      "outputs": []
    },
    {
      "cell_type": "code",
      "metadata": {
        "id": "hC7iECHQM1RV"
      },
      "source": [
        "print(f'O primeiro registro é: {dados[1]}')"
      ],
      "execution_count": null,
      "outputs": []
    },
    {
      "cell_type": "code",
      "metadata": {
        "id": "hrGbDdCeNlnU"
      },
      "source": [
        "import numpy as np"
      ],
      "execution_count": null,
      "outputs": []
    },
    {
      "cell_type": "code",
      "metadata": {
        "id": "kfR_ZzQcORpy"
      },
      "source": [
        "# convertendo a lista em array\n",
        "cabeçalho = dados[0]\n",
        "dados = np.array(dados[1:], dtype=np.float32)"
      ],
      "execution_count": null,
      "outputs": []
    },
    {
      "cell_type": "code",
      "metadata": {
        "id": "jZg0Z3uPOVjr"
      },
      "source": [
        "dados"
      ],
      "execution_count": null,
      "outputs": []
    },
    {
      "cell_type": "code",
      "metadata": {
        "id": "02pxJJLQOWvu"
      },
      "source": [
        "cabeçalho"
      ],
      "execution_count": null,
      "outputs": []
    },
    {
      "cell_type": "code",
      "metadata": {
        "id": "wDmFf_gXOnwL"
      },
      "source": [
        "len(dados[:,-1])"
      ],
      "execution_count": null,
      "outputs": []
    },
    {
      "cell_type": "code",
      "metadata": {
        "id": "i7boCFWOOzDb"
      },
      "source": [
        "print(f'A média dos valores das casas é: {np.mean(dados[:,-1])}')"
      ],
      "execution_count": null,
      "outputs": []
    },
    {
      "cell_type": "code",
      "metadata": {
        "id": "zF31vAcDPaob"
      },
      "source": [
        "print(f'O desvio padrão dos valores das casas é: {np.std(dados[:,-1])}')"
      ],
      "execution_count": null,
      "outputs": []
    },
    {
      "cell_type": "markdown",
      "metadata": {
        "id": "D4fF_j6KQLxS"
      },
      "source": [
        "Verifique a [documentação](https://numpy.org/doc/stable/user/quickstart.html) do numpy para mais informações."
      ]
    },
    {
      "cell_type": "code",
      "metadata": {
        "id": "DI6QGEglPxSr"
      },
      "source": [
        ""
      ],
      "execution_count": null,
      "outputs": []
    },
    {
      "cell_type": "markdown",
      "metadata": {
        "id": "B9stCs_WQNWo"
      },
      "source": [
        "## **Geração de gráficos**\n",
        "\n",
        "Para falar de grãficos em python precisamos falar da biblioteca **Matplotlib**:\n",
        "\n",
        "- Matplotlib é uma biblioteca de plotagem de gráfico de baixo nível em python que serve como um utilitário de visualização.\n",
        "\n",
        "- Matplotlib é um código aberto e podemos usá-lo livremente.\n",
        "\n",
        "- Matplotlib é escrito principalmente em python, alguns segmentos são escritos em C, Objective-C e Javascript para compatibilidade de plataforma.\n",
        "\n",
        "O código fonte da biblioteca pode ser encontrado [aqui](https://github.com/matplotlib/matplotlib)\n",
        "\n",
        "Toda a documentação da biblioteca pode ser encontrada [aqui](https://matplotlib.org/)"
      ]
    },
    {
      "cell_type": "code",
      "metadata": {
        "id": "-sDPMDoaQR4d"
      },
      "source": [
        "# Importando a blbioteca\n",
        "import matplotlib"
      ],
      "execution_count": null,
      "outputs": []
    },
    {
      "cell_type": "code",
      "metadata": {
        "id": "1T_WLIb3C5w_"
      },
      "source": [
        "# Checando a versão instalada no colab\n",
        "\n",
        "matplotlib.__version__"
      ],
      "execution_count": null,
      "outputs": []
    },
    {
      "cell_type": "markdown",
      "metadata": {
        "id": "sAWFAauuDFFC"
      },
      "source": [
        "A maioria dos utilitários Matplotlib está sob o submódulo **pyplot** e geralmente são importados sob o apelido **plt**:"
      ]
    },
    {
      "cell_type": "code",
      "metadata": {
        "id": "iNRzj5-hC9Xu"
      },
      "source": [
        "import matplotlib.pyplot as plt"
      ],
      "execution_count": null,
      "outputs": []
    },
    {
      "cell_type": "code",
      "metadata": {
        "id": "It_A235qDLJf"
      },
      "source": [
        "# Usamos bastante numpy e matplotlib.pyplot no dia a dia com python. \n",
        "#Logo estou importando numpy novamente pois iremos usaá-lo. \n",
        "\n",
        "import numpy as np"
      ],
      "execution_count": null,
      "outputs": []
    },
    {
      "cell_type": "markdown",
      "metadata": {
        "id": "OU1DgTbrEUro"
      },
      "source": [
        "### **A função plot()**\n",
        "\n",
        "A função plot() é usada para desenhar pontos (marcadores) em um diagrama.\n",
        "\n",
        "Por padrão, a função plot() desenha uma linha de ponto a ponto."
      ]
    },
    {
      "cell_type": "markdown",
      "metadata": {
        "id": "DemDjSwEDsUQ"
      },
      "source": [
        "Desenhando uma linha em um diagrama da posição (0,0) à posição (6,250):"
      ]
    },
    {
      "cell_type": "code",
      "metadata": {
        "id": "Bts98BeQDPnp"
      },
      "source": [
        "xpoints = np.array([0, 6])\n",
        "ypoints = np.array([0, 250])\n",
        "\n",
        "plt.plot(xpoints, ypoints)\n",
        "plt.show()"
      ],
      "execution_count": null,
      "outputs": []
    },
    {
      "cell_type": "code",
      "metadata": {
        "id": "FOHNeXYlD8zJ"
      },
      "source": [
        "xpoints = np.array([0, 6, 10, 17, 25])\n",
        "ypoints = np.array([0, 250, 100, 400, 980])\n",
        "\n",
        "plt.plot(xpoints, ypoints)\n",
        "plt.show()"
      ],
      "execution_count": null,
      "outputs": []
    },
    {
      "cell_type": "markdown",
      "metadata": {
        "id": "P9dpGiSwEu8_"
      },
      "source": [
        "**Formatando plot**\n",
        "\n",
        "Para plotar apenas os marcadores, você pode usar o parâmetro de notação de string de atalho **'o'**, que significa 'anéis'.\n",
        "\n",
        "Você ainda pode formatar a cor e o tipo de linha.\n",
        "\n",
        "Para mais informação sobre a formatação, veja este [link](https://matplotlib.org/stable/api/_as_gen/matplotlib.pyplot.plot.html#matplotlib.pyplot.plot)"
      ]
    },
    {
      "cell_type": "code",
      "metadata": {
        "id": "uIm9QBIGEyJ0"
      },
      "source": [
        "xpoints = np.array([0, 6, 10, 17, 25])\n",
        "ypoints = np.array([0, 250, 100, 400, 980])\n",
        "\n",
        "plt.plot(xpoints, ypoints, 'o')\n",
        "plt.show()"
      ],
      "execution_count": null,
      "outputs": []
    },
    {
      "cell_type": "code",
      "metadata": {
        "id": "4mJH37uvEzZB"
      },
      "source": [
        "# Linha com marcador\n",
        "\n",
        "xpoints = np.array([0, 6, 10, 17, 25])\n",
        "ypoints = np.array([0, 250, 100, 400, 980])\n",
        "\n",
        "plt.plot(xpoints, ypoints, '--r', marker='d')\n",
        "plt.show()"
      ],
      "execution_count": null,
      "outputs": []
    },
    {
      "cell_type": "code",
      "metadata": {
        "id": "30-JWF_NGNXC"
      },
      "source": [
        "# Size do marcador\n",
        "\n",
        "import matplotlib.pyplot as plt\n",
        "import numpy as np\n",
        "\n",
        "ypoints = np.array([3, 8, 1, 10])\n",
        "\n",
        "plt.plot(ypoints, marker = 'o', ms = 10)\n",
        "plt.show()"
      ],
      "execution_count": null,
      "outputs": []
    },
    {
      "cell_type": "code",
      "metadata": {
        "id": "WJuVf8g3GlQV"
      },
      "source": [
        "# Cor do marcador\n",
        "\n",
        "import matplotlib.pyplot as plt\n",
        "import numpy as np\n",
        "\n",
        "ypoints = np.array([3, 8, 1, 10])\n",
        "\n",
        "plt.plot(ypoints, color='m', marker = 'o', ms = 20, mec = 'r', mfc = '#4CAF50')\n",
        "plt.show()"
      ],
      "execution_count": null,
      "outputs": []
    },
    {
      "cell_type": "code",
      "metadata": {
        "id": "tWcuRVljHG6w"
      },
      "source": [
        "# largura da linha\n",
        "\n",
        "import matplotlib.pyplot as plt\n",
        "import numpy as np\n",
        "\n",
        "ypoints = np.array([3, 8, 1, 10])\n",
        "\n",
        "plt.plot(ypoints, color='m', marker = 'o', ms = 20, mec = 'r', mfc = '#4CAF50', linewidth=5)\n",
        "plt.show()"
      ],
      "execution_count": null,
      "outputs": []
    },
    {
      "cell_type": "markdown",
      "metadata": {
        "id": "Wxit3-QyHvMo"
      },
      "source": [
        "**Múltiplas Linhas**\n",
        "\n",
        "Você pode plotar quantas linhas quiser simplesmente adicionando mais funções plt.plot():"
      ]
    },
    {
      "cell_type": "code",
      "metadata": {
        "id": "BgplZl1qHoN5"
      },
      "source": [
        "# Apenas com os ys\n",
        "\n",
        "y1 = np.array([3, 8, 1, 10])\n",
        "y2 = np.array([6, 2, 7, 11])\n",
        "\n",
        "plt.plot(y1)\n",
        "plt.plot(y2)\n",
        "\n",
        "plt.show()"
      ],
      "execution_count": null,
      "outputs": []
    },
    {
      "cell_type": "code",
      "metadata": {
        "id": "Su2KXuKaH3KY"
      },
      "source": [
        "# Plots com xs e ys\n",
        "\n",
        "x1 = np.array([0, 1, 2, 3])\n",
        "y1 = np.array([3, 8, 1, 10])\n",
        "x2 = np.array([0, 1, 2, 3])\n",
        "y2 = np.array([6, 2, 7, 11])\n",
        "\n",
        "plt.plot(x1, y1, x2, y2)\n",
        "plt.show()"
      ],
      "execution_count": null,
      "outputs": []
    },
    {
      "cell_type": "markdown",
      "metadata": {
        "id": "h_aPG93kIFC5"
      },
      "source": [
        "**Legendas**\n",
        "\n",
        "Com Pyplot, você pode usar as funções **xlabel()** e **ylabel()** para definir um rótulo para os eixos x e y."
      ]
    },
    {
      "cell_type": "code",
      "metadata": {
        "id": "qQwFhwG6IBX-"
      },
      "source": [
        "x = np.array([80, 85, 90, 95, 100, 105, 110, 115, 120, 125])\n",
        "y = np.array([240, 250, 260, 270, 280, 290, 300, 310, 320, 330])\n",
        "\n",
        "plt.plot(x, y)\n",
        "\n",
        "plt.xlabel(\"Pulso médio\")\n",
        "plt.ylabel(\"Queima de caloria\")\n",
        "\n",
        "plt.show()"
      ],
      "execution_count": null,
      "outputs": []
    },
    {
      "cell_type": "markdown",
      "metadata": {
        "id": "0kK6dOx-IbVc"
      },
      "source": [
        "**Título para o plot**\n",
        "\n",
        "Com Pyplot, você pode usar a função **title()** para definir um título para o gráfico."
      ]
    },
    {
      "cell_type": "code",
      "metadata": {
        "id": "iwa5ascoIVYX"
      },
      "source": [
        "x = np.array([80, 85, 90, 95, 100, 105, 110, 115, 120, 125])\n",
        "y = np.array([240, 250, 260, 270, 280, 290, 300, 310, 320, 330])\n",
        "\n",
        "plt.plot(x, y, '--gD', mec='r', mfc='r')\n",
        "\n",
        "plt.title(\"Dados do relógio esportivo\")\n",
        "plt.xlabel(\"Pulso médio\")\n",
        "plt.ylabel(\"Queima de caloria\")\n",
        "\n",
        "plt.show()"
      ],
      "execution_count": null,
      "outputs": []
    },
    {
      "cell_type": "markdown",
      "metadata": {
        "id": "VNotY1-CJi_4"
      },
      "source": [
        "As opções de configurações são diversas. Podemos mudar as cores das legendas, do título,o tamanho e o tipo de fonte do texto, o posicionamento do texto, colocar grid no plot, etc. \n",
        "\n",
        "Consulte sempre a documentação para ver as opções deisponíveis.\n",
        "\n",
        "**Nota:** As configurações devem sempre vir antes do plt.show()"
      ]
    },
    {
      "cell_type": "markdown",
      "metadata": {
        "id": "7ZnaoJ_XKqq4"
      },
      "source": [
        "### **Criação de gráficos de dispersão**\n",
        "\n",
        "Com Pyplot, você pode usar a função **scatter()** para desenhar um gráfico de dispersão.\n",
        "\n",
        "A função scatter() plota um ponto para cada observação. São necessárias duas matrizes do mesmo comprimento, uma para os valores do eixo x e outra para os valores do eixo y.\n",
        "\n",
        "**obs:** Agora vamos usar os dados do dataset iris disponivel na biblioteca **sklearn**!"
      ]
    },
    {
      "cell_type": "code",
      "metadata": {
        "id": "Lzggkz_aIlBs"
      },
      "source": [
        "# carregando a biblioteca e lendo os dados\n",
        "\n",
        "from sklearn import datasets\n",
        "\n",
        "iris = datasets.load_iris()\n",
        "\n",
        "dadosX = iris.data\n",
        "dadosY = iris.target"
      ],
      "execution_count": null,
      "outputs": []
    },
    {
      "cell_type": "code",
      "metadata": {
        "id": "CdKrwFHSLJKp"
      },
      "source": [
        "# Nomes das colunas (atributos)\n",
        "\n",
        "iris.feature_names"
      ],
      "execution_count": null,
      "outputs": []
    },
    {
      "cell_type": "code",
      "metadata": {
        "id": "oI9XyO1ISXlF"
      },
      "source": [
        "# Nomes das classes\n",
        "\n",
        "iris.target_names"
      ],
      "execution_count": null,
      "outputs": []
    },
    {
      "cell_type": "code",
      "metadata": {
        "id": "ZUtZ7VB2LO_s"
      },
      "source": [
        "# Dados de x\n",
        "dadosX"
      ],
      "execution_count": null,
      "outputs": []
    },
    {
      "cell_type": "code",
      "metadata": {
        "id": "FqFr6Be7Ltnf"
      },
      "source": [
        "# Dados de y\n",
        "\n",
        "dadosY"
      ],
      "execution_count": null,
      "outputs": []
    },
    {
      "cell_type": "code",
      "metadata": {
        "id": "rBlXW9BRSaQD"
      },
      "source": [
        "# Plotando um scatter plot do sepal length (cm) X sepal width (cm)\n",
        "\n",
        "x = dadosX[:,0]\n",
        "y = dadosX[:,1]\n",
        "\n",
        "plt.title('Distribuição da sépala')\n",
        "plt.xlabel('sepal length (cm)')\n",
        "plt.ylabel('sepal width (cm)')\n",
        "plt.scatter(x, y)\n",
        "\n",
        "plt.show()"
      ],
      "execution_count": null,
      "outputs": []
    },
    {
      "cell_type": "code",
      "metadata": {
        "id": "phWGtrOlTOdA"
      },
      "source": [
        "# Plotando um scatter plot do petal length (cm) X petal width (cm)\n",
        "\n",
        "x = dadosX[:,2]\n",
        "y = dadosX[:,3]\n",
        "\n",
        "plt.title('Distribuição da pétala')\n",
        "plt.xlabel('petal length (cm)')\n",
        "plt.ylabel('petal width (cm)')\n",
        "\n",
        "scatter = plt.scatter(x, y, c=iris.target)\n",
        "\n",
        "plt.legend(*scatter.legend_elements())\n",
        "\n",
        "plt.show()"
      ],
      "execution_count": null,
      "outputs": []
    },
    {
      "cell_type": "markdown",
      "metadata": {
        "id": "KWGKxcPDbLr6"
      },
      "source": [
        "Tutoriais de gráficos do pyplot você pode encontrar [aqui](https://matplotlib.org/stable/tutorials/index.html).\n"
      ]
    },
    {
      "cell_type": "code",
      "metadata": {
        "id": "fw93kd4Ua8wd"
      },
      "source": [
        ""
      ],
      "execution_count": null,
      "outputs": []
    }
  ]
}