{
  "nbformat": 4,
  "nbformat_minor": 0,
  "metadata": {
    "colab": {
      "name": "Aula 01 - Numpy_Intro.ipynb",
      "provenance": [],
      "collapsed_sections": []
    },
    "kernelspec": {
      "name": "python3",
      "display_name": "Python 3"
    },
    "language_info": {
      "name": "python"
    }
  },
  "cells": [
    {
      "cell_type": "markdown",
      "metadata": {
        "id": "I0PZzgus27HZ"
      },
      "source": [
        "# **Instituto Tecnológico Vale**\n",
        "\n",
        "## **Elementos de Automação e Programação para Automação**\n",
        "\n",
        "### **Introdução a biblioteca Numpy**\n",
        "\n",
        "### **Professor: André Almeida Santos**"
      ]
    },
    {
      "cell_type": "markdown",
      "metadata": {
        "id": "6_97bZgl26fZ"
      },
      "source": [
        "### **Usando Numpy**\n",
        "\n",
        "Numpy é a biblioteca central para computação científica em Python. Ela fornece um objeto de matriz multidimensional de alto desempenho e ferramentas para trabalhar com essas matrizes.\n",
        "\n",
        "Ela também tem funções para trabalhar no domínio da álgebra linear, e transformada de Fourier.\n",
        "\n",
        "Em Python, temos listas que servem ao propósito de matrizes, mas são lentas para processar.\n",
        "\n",
        "NumPy visa fornecer um objeto de matriz que é até 50x mais rápido do que as listas Python tradicionais.\n",
        "\n",
        "O objeto array em NumPy é chamado ndarray, ele fornece várias funções de suporte que tornam o trabalho com ndarray muito fácil.\n",
        "\n",
        "Os arrays são usados com muita frequência em ciência de dados, onde velocidade e recursos são muito importantes.\n",
        "\n",
        "Verifique a [documentação](https://numpy.org/doc/stable/user/quickstart.html) do numpy para mais informações."
      ]
    },
    {
      "cell_type": "markdown",
      "metadata": {
        "id": "6XNnzldG3QPm"
      },
      "source": [
        "Para usar o Numpy, primeiro precisamos importar o pacote numpy:"
      ]
    },
    {
      "cell_type": "code",
      "metadata": {
        "id": "3Or8tJaH3F1D"
      },
      "source": [
        "import numpy as np"
      ],
      "execution_count": null,
      "outputs": []
    },
    {
      "cell_type": "code",
      "metadata": {
        "id": "z9-QQXIA3JNC"
      },
      "source": [
        "# Verificando a versao do numpy instalada no colab\n",
        "\n",
        "print(np.__version__)"
      ],
      "execution_count": null,
      "outputs": []
    },
    {
      "cell_type": "markdown",
      "metadata": {
        "id": "Cfgz_7nW39Cy"
      },
      "source": [
        "**Criando um objeto NumPy ndarray**\n",
        "\n",
        "NumPy é usado para trabalhar com matrizes. O objeto de matriz em NumPy é denominado ndarray.\n",
        "\n",
        "Podemos criar um objeto ndarray NumPy usando a função array()."
      ]
    },
    {
      "cell_type": "code",
      "metadata": {
        "id": "c34ylyE_30qc"
      },
      "source": [
        "arr = np.array([1, 2, 3, 4, 5])\n",
        "\n",
        "print(arr)\n",
        "\n",
        "print(type(arr))"
      ],
      "execution_count": null,
      "outputs": []
    },
    {
      "cell_type": "markdown",
      "metadata": {
        "id": "3E_kDNau4Llc"
      },
      "source": [
        "#### **Dimensões em arrays**\n",
        "\n",
        "Uma dimensão em array é um nível de profundidade de array (arrays aninhadas)."
      ]
    },
    {
      "cell_type": "markdown",
      "metadata": {
        "id": "RVaL7lNy4gPn"
      },
      "source": [
        "**0-D Arrays**\n",
        "\n",
        "São os números escalares"
      ]
    },
    {
      "cell_type": "code",
      "metadata": {
        "id": "0ZywM_YT4CoL"
      },
      "source": [
        "arr = np.array(42)\n",
        "\n",
        "print(arr)"
      ],
      "execution_count": null,
      "outputs": []
    },
    {
      "cell_type": "markdown",
      "metadata": {
        "id": "wpBjngUg4v18"
      },
      "source": [
        "**1-D Arrays**\n",
        "\n",
        "É um vetor"
      ]
    },
    {
      "cell_type": "code",
      "metadata": {
        "id": "VWx1e5Kg4tQ_"
      },
      "source": [
        "arr = np.array([1, 2, 3, 4, 5])\n",
        "\n",
        "print(arr)"
      ],
      "execution_count": null,
      "outputs": []
    },
    {
      "cell_type": "markdown",
      "metadata": {
        "id": "xdotRnoa5DGB"
      },
      "source": [
        "**2-D Arrays**\n",
        "\n",
        "É uma matriz"
      ]
    },
    {
      "cell_type": "code",
      "metadata": {
        "id": "AwC-S3zu4_zL"
      },
      "source": [
        "# Observe como os colchetes são usados para indicar as dimensões\n",
        "\n",
        "arr = np.array([[1, 2, 3], [4, 5, 6]])\n",
        "\n",
        "print(arr)"
      ],
      "execution_count": null,
      "outputs": []
    },
    {
      "cell_type": "markdown",
      "metadata": {
        "id": "qJXVus9u5JnB"
      },
      "source": [
        "**3-D arrays**\n",
        "\n",
        "É um 'cubo', ou seja, vária matrizes de mesma dimensão empilhadas.\n",
        "\n",
        "A partir de três dimensões os arrays também são chamados de tensores."
      ]
    },
    {
      "cell_type": "code",
      "metadata": {
        "id": "O5ll233t5F6O"
      },
      "source": [
        "# Observe como os colchetes são usados para indicar as dimensões\n",
        "\n",
        "arr = np.array([[[1, 2, 3], [4, 5, 6]], [[1, 2, 3], [4, 5, 6]]])\n",
        "\n",
        "print(arr)"
      ],
      "execution_count": null,
      "outputs": []
    },
    {
      "cell_type": "markdown",
      "metadata": {
        "id": "7XP9y-d9fcdM"
      },
      "source": [
        "![im](https://pbs.twimg.com/media/DZfhby-VQAA07ql.jpg)"
      ]
    },
    {
      "cell_type": "markdown",
      "metadata": {
        "id": "fABPC4F4ipSU"
      },
      "source": [
        "NumPy Arrays fornece o atributo ndim que retorna um inteiro que nos diz quantas dimensões a matriz tem."
      ]
    },
    {
      "cell_type": "code",
      "metadata": {
        "id": "NRZC29-v5TkV"
      },
      "source": [
        "arr_0d = np.array(42)\n",
        "arr_1d = np.array([1, 2, 3, 4, 5])\n",
        "arr_2d = np.array([[1, 2, 3], [4, 5, 6]])\n",
        "arr_3d = np.array([[[1, 2, 3], [4, 5, 6]], [[7, 8, 9], [10, 11, 12]]])\n",
        "\n",
        "print(arr_0d.ndim)\n",
        "print(arr_1d.ndim)\n",
        "print(arr_2d.ndim)\n",
        "print(arr_3d.ndim)"
      ],
      "execution_count": null,
      "outputs": []
    },
    {
      "cell_type": "markdown",
      "metadata": {
        "id": "gzj4ROHVlSXJ"
      },
      "source": [
        "Você pode acessar um elemento da matriz referindo-se ao seu número de índice."
      ]
    },
    {
      "cell_type": "code",
      "metadata": {
        "id": "QLB0aCgLixex"
      },
      "source": [
        "print(arr_1d[0])"
      ],
      "execution_count": null,
      "outputs": []
    },
    {
      "cell_type": "code",
      "metadata": {
        "id": "kJeugu34lXxp"
      },
      "source": [
        "print(arr_2d[0, 2])"
      ],
      "execution_count": null,
      "outputs": []
    },
    {
      "cell_type": "code",
      "metadata": {
        "id": "fnoodfcPla5o"
      },
      "source": [
        "print(arr_3d[1, 1 ,2])"
      ],
      "execution_count": null,
      "outputs": []
    },
    {
      "cell_type": "markdown",
      "metadata": {
        "id": "mKBTj_Pil65d"
      },
      "source": [
        "Fatiamento com numpy é igual ao fatiamento da lista: [start:end:step]"
      ]
    },
    {
      "cell_type": "code",
      "metadata": {
        "id": "oCtJF4IXl9O2"
      },
      "source": [
        "print(arr_1d[1:])"
      ],
      "execution_count": null,
      "outputs": []
    },
    {
      "cell_type": "code",
      "metadata": {
        "id": "EQEpUdgWmJqi"
      },
      "source": [
        "print(arr_2d[:2, :2])"
      ],
      "execution_count": null,
      "outputs": []
    },
    {
      "cell_type": "code",
      "metadata": {
        "id": "1XWAqd7TmPrH"
      },
      "source": [
        "print(arr_3d[:, :2, :2])"
      ],
      "execution_count": null,
      "outputs": []
    },
    {
      "cell_type": "markdown",
      "metadata": {
        "id": "vSfkHHX8oCfC"
      },
      "source": [
        "**Forma do array**\n",
        "\n",
        "A forma de uma matriz é o número de elementos em cada dimensão.\n",
        "\n",
        "A função shape() nos permite verificar o formato so array."
      ]
    },
    {
      "cell_type": "code",
      "metadata": {
        "id": "_kVYc6Frm-Xp"
      },
      "source": [
        "arr = np.array([[1, 2, 3, 4], [5, 6, 7, 8]])\n",
        "\n",
        "print(arr.shape)"
      ],
      "execution_count": null,
      "outputs": []
    },
    {
      "cell_type": "code",
      "metadata": {
        "id": "j1qIqyhGoMet"
      },
      "source": [
        "# Criando um array e definindo a dimensão na chamada da construção\n",
        "\n",
        "arr = np.array([1, 2, 3, 4], ndmin=5)\n",
        "\n",
        "print(arr)\n",
        "print('shape of array :', arr.shape)"
      ],
      "execution_count": null,
      "outputs": []
    },
    {
      "cell_type": "markdown",
      "metadata": {
        "id": "bIIgINfOp4nF"
      },
      "source": [
        "O Numpy também oferece muitas funções para criar matrizes:"
      ]
    },
    {
      "cell_type": "code",
      "metadata": {
        "id": "cH1WhnMMoRF-"
      },
      "source": [
        "a = np.zeros((2,2))  # Criar um array contendo só zeros\n",
        "print(a)"
      ],
      "execution_count": null,
      "outputs": []
    },
    {
      "cell_type": "code",
      "metadata": {
        "id": "YtXSMx5Fp6o0"
      },
      "source": [
        "b = np.ones((1,2))   # Criar um array contendo só uns\n",
        "print(b)"
      ],
      "execution_count": null,
      "outputs": []
    },
    {
      "cell_type": "code",
      "metadata": {
        "id": "ZQlyVAoVp7z2"
      },
      "source": [
        "c = np.full((2,2), 7) # Criar um array com constantes\n",
        "print(c)"
      ],
      "execution_count": null,
      "outputs": []
    },
    {
      "cell_type": "code",
      "metadata": {
        "id": "jeX3suTCp9Co"
      },
      "source": [
        "d = np.eye(2)        # Criar uma matriz identidade 2x2\n",
        "print(d)"
      ],
      "execution_count": null,
      "outputs": []
    },
    {
      "cell_type": "code",
      "metadata": {
        "id": "Pu6AgkBZp-Mv"
      },
      "source": [
        "e = np.random.random((2,2)) # Criar uma matriz com valores aleatorios\n",
        "print(e)"
      ],
      "execution_count": null,
      "outputs": []
    },
    {
      "cell_type": "markdown",
      "metadata": {
        "id": "P2Q0aowMqlhm"
      },
      "source": [
        "**Datatypes**\n",
        "\n",
        "\n",
        "Cada matriz numpy é uma grade de elementos do mesmo tipo. Numpy fornece um grande conjunto de tipos de dados numéricos que você pode usar para construir matrizes. O Numpy tenta adivinhar um tipo de dados quando você cria uma matriz, mas as funções que constroem matrizes geralmente também incluem um argumento opcional para especificar explicitamente o tipo de dados. Aqui está um exemplo:"
      ]
    },
    {
      "cell_type": "code",
      "metadata": {
        "id": "j-tujDr1p_dq"
      },
      "source": [
        "x = np.array([1, 2])  # Deixe numpy escolher o tipo de dados\n",
        "y = np.array([1.0, 2.0])  # Deixe numpy escolher o tipo de dados\n",
        "z = np.array([1, 2], dtype=np.int64)  # Forçar um tipo de dados em particular\n",
        "\n",
        "print(x.dtype, y.dtype, z.dtype)"
      ],
      "execution_count": null,
      "outputs": []
    },
    {
      "cell_type": "markdown",
      "metadata": {
        "id": "8gCRsgUKqsKW"
      },
      "source": [
        "**Array math**\n",
        "\n",
        "Funções matemáticas básicas operam elemento a elemento em matrizes e estão disponíveis como sobrecargas de operador e como funções no módulo numpy:"
      ]
    },
    {
      "cell_type": "code",
      "metadata": {
        "id": "LsAxZ2x8qpQX"
      },
      "source": [
        "x = np.array([[1,2],[3,4]], dtype=np.float64)\n",
        "y = np.array([[5,6],[7,8]], dtype=np.float64)\n",
        "\n",
        "print(x)\n",
        "print('')\n",
        "print(y)"
      ],
      "execution_count": null,
      "outputs": []
    },
    {
      "cell_type": "code",
      "metadata": {
        "id": "V_ctOpRRgDhT"
      },
      "source": [
        "# Soma elemento a elemento; ambos produzem a matriz\n",
        "print(x + y)\n",
        "print('')\n",
        "print(np.add(x, y))"
      ],
      "execution_count": null,
      "outputs": []
    },
    {
      "cell_type": "code",
      "metadata": {
        "id": "9tqAZeL_qxD7"
      },
      "source": [
        "# Substração elemento a elemento; ambos produzem a matriz\n",
        "print(x - y)\n",
        "print('')\n",
        "print(np.subtract(x, y))"
      ],
      "execution_count": null,
      "outputs": []
    },
    {
      "cell_type": "code",
      "metadata": {
        "id": "RTbic7QGqyh6"
      },
      "source": [
        "# Multiplicação elemento a elemento; ambos produzem a matriz\n",
        "print(x * y)\n",
        "print('')\n",
        "print(np.multiply(x, y))"
      ],
      "execution_count": null,
      "outputs": []
    },
    {
      "cell_type": "code",
      "metadata": {
        "id": "xKTcNMYgq0El"
      },
      "source": [
        "# Divisão elemento a elemento; ambos produzem a matriz\n",
        "# [[ 0.2         0.33333333]\n",
        "#  [ 0.42857143  0.5       ]]\n",
        "print(x / y)\n",
        "print('')\n",
        "print(np.divide(x, y))"
      ],
      "execution_count": null,
      "outputs": []
    },
    {
      "cell_type": "code",
      "metadata": {
        "id": "3mtDJWTzq5m9"
      },
      "source": [
        "# Raiz quadrada elemento a elemento; ambos produzem a matriz\n",
        "# [[ 1.          1.41421356]\n",
        "#  [ 1.73205081  2.        ]]\n",
        "print(np.sqrt(x))"
      ],
      "execution_count": null,
      "outputs": []
    },
    {
      "cell_type": "markdown",
      "metadata": {
        "id": "-seD5YNXrFrH"
      },
      "source": [
        "Observe que, ao contrário do MATLAB, * é a multiplicação elementar, não a multiplicação de matriz. Em vez disso, usamos a função de dot para calcular produtos internos de vetores, para multiplicar um vetor por uma matriz e para multiplicar matrizes. dot está disponível como uma função no módulo numpy e como um método de instância de objetos de matriz:"
      ]
    },
    {
      "cell_type": "code",
      "metadata": {
        "id": "I3uZTBZfrBQc"
      },
      "source": [
        "x = np.array([[1,2],[3,4]])\n",
        "y = np.array([[5,6],[7,8]])\n",
        "\n",
        "v = np.array([9,10])\n",
        "w = np.array([11, 12])\n",
        "\n",
        "# Produto interno de vetores; ambos produzem 219\n",
        "print(v.dot(w))\n",
        "print('')\n",
        "print(np.dot(v, w))"
      ],
      "execution_count": null,
      "outputs": []
    },
    {
      "cell_type": "markdown",
      "metadata": {
        "id": "gPQ0Mhc-rLBx"
      },
      "source": [
        "Você também pode usar o operador @ que é equivalente ao operador dot de numpy."
      ]
    },
    {
      "cell_type": "code",
      "metadata": {
        "id": "1x8LDdGlrHLx"
      },
      "source": [
        "print(v @ w)"
      ],
      "execution_count": null,
      "outputs": []
    },
    {
      "cell_type": "code",
      "metadata": {
        "id": "b0UZwZSkrMSf"
      },
      "source": [
        "\n",
        "# Produto matricial / vetorial; ambos produzem a matriz de rank 1 [29 67]\n",
        "print(x.dot(v))\n",
        "print('')\n",
        "print(np.dot(x, v))\n",
        "#print(x @ v)"
      ],
      "execution_count": null,
      "outputs": []
    },
    {
      "cell_type": "code",
      "metadata": {
        "id": "UtNq6DevrQAB"
      },
      "source": [
        "# Matriz / produto da matriz; ambos produzem a matriz de rank 2\n",
        "# [[19 22]\n",
        "#  [43 50]]\n",
        "print(x.dot(y))\n",
        "print('')\n",
        "print(np.dot(x, y))\n",
        "#print(x @ y)"
      ],
      "execution_count": null,
      "outputs": []
    },
    {
      "cell_type": "markdown",
      "metadata": {
        "id": "SDZwgUUvrYHw"
      },
      "source": [
        "Numpy tem muitas funções úteis para realizar computações em arrays, um dos mais usados é o sum:"
      ]
    },
    {
      "cell_type": "code",
      "metadata": {
        "id": "AVc_R_vBrUYB"
      },
      "source": [
        "x = np.array([[1,2],[3,4]])\n",
        "\n",
        "print(np.sum(x))  # Calcule a soma de todos os elementos; imprime \"10\"\n",
        "print(np.sum(x, axis=0))  # Calcule a soma de cada coluna; imprime \"[4 6]\"\n",
        "print(np.sum(x, axis=1))  # Calcule a soma de cada linha; imprime \"[3 7]\""
      ],
      "execution_count": null,
      "outputs": []
    },
    {
      "cell_type": "markdown",
      "metadata": {
        "id": "b0iUsBTcrd6Y"
      },
      "source": [
        "Você pode encontrar a lista completa de funções matemáticas fornecidas por numpy na [documentação](https://numpy.org/doc/stable/reference/routines.math.html).\n",
        "\n",
        "Além de computar funções matemáticas usando matrizes, frequentemente precisamos remodelar ou manipular dados em matrizes. O exemplo mais simples desse tipo de operação é a transposição de uma matriz; para transpor uma matriz, basta usar o atributo T de um objeto de matriz:"
      ]
    },
    {
      "cell_type": "code",
      "metadata": {
        "id": "Imr_0yZarZpk"
      },
      "source": [
        "print(x)\n",
        "print('')\n",
        "print(\"transpose\\n\", x.T)"
      ],
      "execution_count": null,
      "outputs": []
    },
    {
      "cell_type": "code",
      "metadata": {
        "id": "WS_BTO3urlOk"
      },
      "source": [
        "v = np.array([[1,2,3]])\n",
        "print(v)\n",
        "print('')\n",
        "print(\"transpose\\n\", v.T)"
      ],
      "execution_count": null,
      "outputs": []
    },
    {
      "cell_type": "code",
      "metadata": {
        "id": "N2cGkxaGroKl"
      },
      "source": [
        ""
      ],
      "execution_count": null,
      "outputs": []
    }
  ]
}