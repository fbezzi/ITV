{
  "nbformat": 4,
  "nbformat_minor": 0,
  "metadata": {
    "colab": {
      "name": "Aula 01 - Python.ipynb ",
      "provenance": [],
      "collapsed_sections": []
    },
    "kernelspec": {
      "name": "python3",
      "display_name": "Python 3"
    },
    "language_info": {
      "name": "python"
    }
  },
  "cells": [
    {
      "cell_type": "markdown",
      "metadata": {
        "id": "7WGT5idjnp4-"
      },
      "source": [
        "# **Instituto Tecnológico Vale**\n",
        "\n",
        "## **Elementos de Automação e Programação para Automação**\n",
        "\n",
        "### **Aula - Programação em Python - Parte 1**\n",
        "\n",
        "### **Professor: André Almeida Santos**\n",
        "\n"
      ]
    },
    {
      "cell_type": "markdown",
      "metadata": {
        "id": "TfLJf3wQwxSv"
      },
      "source": [
        "## **Por que Python?**\n",
        "\n",
        "- Python funciona em diferentes plataformas (Windows, Mac, Linux, Raspberry Pi, etc).\n",
        "\n",
        "- Python tem uma sintaxe simples semelhante à do idioma inglês.\n",
        "\n",
        "- Python tem sintaxe que permite aos desenvolvedores escrever programas com menos linhas do que algumas outras linguagens de programação.\n",
        "\n",
        "- Python é executado em um sistema interpretador, o que significa que o código pode ser executado assim que for escrito. Isso significa que a prototipagem pode ser muito rápida.\n",
        "\n",
        "- Python pode ser tratado de maneira procedimental, funcional ou orientada a objetos."
      ]
    },
    {
      "cell_type": "markdown",
      "metadata": {
        "id": "XSJ0wL7mt0De"
      },
      "source": [
        "### **Python é uma linguagem de programação popular. Foi criado por Guido van Rossum e lançado em 1991:**\n",
        "\n",
        "A versão principal mais recente do Python é o **Python 3**, que usaremos neste tutorial.\n",
        "\n",
        "- Python pode ser usado em um servidor para criar aplicativos da web.\n",
        "\n",
        "- Python pode ser usado junto com software para criar fluxos de trabalho.\n",
        "\n",
        "- Python pode se conectar a sistemas de banco de dados. Ele também pode ler e modificar arquivos.\n",
        "\n",
        "- Python pode ser usado para lidar com big data e executar matemática complexa.\n",
        "\n",
        "- Python pode ser usado para prototipagem rápida ou para desenvolvimento de software pronto para produção.\n"
      ]
    },
    {
      "cell_type": "markdown",
      "metadata": {
        "id": "S8_Jjui2xaLz"
      },
      "source": [
        "### **Sintaxe Python:**\n",
        "\n",
        "- Python usa novas linhas para completar um comando, ao contrário de outras linguagens de programação que geralmente usam ponto-e-vírgula ou parênteses.\n",
        "\n",
        "- Python depende de **indentação**, usando espaços em branco, para definir o escopo; como o escopo de loops, funções e classes. Outras linguagens de programação costumam usar chaves para esse propósito.\n",
        "\n",
        "- Comentários de uma linha com Python são feitos com #."
      ]
    },
    {
      "cell_type": "code",
      "metadata": {
        "id": "4BJcsRJwnpgK"
      },
      "source": [
        "#Isso é um comentario:\n",
        "\n",
        "# A celula abaixo é uma cálula de código a ser executada"
      ],
      "execution_count": null,
      "outputs": []
    },
    {
      "cell_type": "code",
      "metadata": {
        "id": "4qcpvqRT1Qm_"
      },
      "source": [
        "print('Hello, World!') #comentário pode estar na célula de código também!"
      ],
      "execution_count": null,
      "outputs": []
    },
    {
      "cell_type": "markdown",
      "metadata": {
        "id": "EiEGNWmW0vAK"
      },
      "source": [
        "## **Vamos começar?** \n",
        "\n",
        "Primeiro vamos verificar a versão do python aqui no google colab!"
      ]
    },
    {
      "cell_type": "code",
      "metadata": {
        "id": "_wSQvN8EmqDg"
      },
      "source": [
        "!python --version"
      ],
      "execution_count": null,
      "outputs": []
    },
    {
      "cell_type": "markdown",
      "metadata": {
        "id": "1Y1ghd_t2I3Y"
      },
      "source": [
        "## **Variáveis e tipos de dados**"
      ]
    },
    {
      "cell_type": "markdown",
      "metadata": {
        "id": "lIO1RUb34Szg"
      },
      "source": [
        "### Variáveis são contêineres para armazenar valores de dados.\n",
        "\n",
        "Python não tem comando para declarar uma variável.\n",
        "\n",
        "Uma variável é criada no momento em que você atribui um valor a ela."
      ]
    },
    {
      "cell_type": "markdown",
      "metadata": {
        "id": "PKTMCDT67KfF"
      },
      "source": [
        "### **Nomes de variáveis**.\n",
        "\n",
        "Regras para variáveis Python:\n",
        "\n",
        "- Um nome de variável deve começar com uma letra ou o caractere de sublinhado\n",
        "\n",
        "- O nome de uma variável não pode começar com um número\n",
        "\n",
        "- Um nome de variável pode conter apenas caracteres alfanuméricos e sublinhados (A-z, 0-9 e _)\n",
        "\n",
        "- Os nomes das variáveis diferenciam maiúsculas de minúsculas (Idade, idade e IDADE são três variáveis diferentes)"
      ]
    },
    {
      "cell_type": "code",
      "metadata": {
        "id": "AkKLueXI7M8K"
      },
      "source": [
        "myvar = \"John\"\n",
        "my_var = \"John\"\n",
        "_my_var = \"John\""
      ],
      "execution_count": null,
      "outputs": []
    },
    {
      "cell_type": "code",
      "metadata": {
        "id": "x4tRZxAr7wxn"
      },
      "source": [
        "print(myvar, my_var, _my_var)"
      ],
      "execution_count": null,
      "outputs": []
    },
    {
      "cell_type": "markdown",
      "metadata": {
        "id": "AS3NKQF_oS6M"
      },
      "source": [
        "### **Tipos numéricos**"
      ]
    },
    {
      "cell_type": "code",
      "metadata": {
        "id": "2JCACGh21Bq0"
      },
      "source": [
        "x = 5"
      ],
      "execution_count": null,
      "outputs": []
    },
    {
      "cell_type": "code",
      "metadata": {
        "id": "Avk0B7114obM"
      },
      "source": [
        "print(x)"
      ],
      "execution_count": null,
      "outputs": []
    },
    {
      "cell_type": "code",
      "metadata": {
        "id": "odFLuszb4sO6"
      },
      "source": [
        "print(type(x))"
      ],
      "execution_count": null,
      "outputs": []
    },
    {
      "cell_type": "code",
      "metadata": {
        "id": "-CjVpgTi454P"
      },
      "source": [
        "x = 5.0"
      ],
      "execution_count": null,
      "outputs": []
    },
    {
      "cell_type": "code",
      "metadata": {
        "id": "PiSm1dVO4-47"
      },
      "source": [
        "print(type(x))"
      ],
      "execution_count": null,
      "outputs": []
    },
    {
      "cell_type": "code",
      "metadata": {
        "id": "OHCSV2lZooZ4"
      },
      "source": [
        "y = float(5)\n",
        "\n",
        "print(y)\n",
        "print(type(y))"
      ],
      "execution_count": null,
      "outputs": []
    },
    {
      "cell_type": "markdown",
      "metadata": {
        "id": "2ELoLjjHADr9"
      },
      "source": [
        "### **Booleanos**\n",
        "\n",
        "Python implementa todos os operadores usuais para lógica booleana, mas usa palavras em inglês em vez de símbolos (&&, ||, etc.):"
      ]
    },
    {
      "cell_type": "code",
      "metadata": {
        "id": "saKzXnxZ6e8Z"
      },
      "source": [
        "t, f = True, False\n",
        "\n",
        "print(t)\n",
        "print(type(t))"
      ],
      "execution_count": null,
      "outputs": []
    },
    {
      "cell_type": "markdown",
      "metadata": {
        "id": "pevudyUUARjF"
      },
      "source": [
        "Agora vamos dar uma olhada nas operações:"
      ]
    },
    {
      "cell_type": "code",
      "metadata": {
        "id": "Qbebv38pAO9m"
      },
      "source": [
        "print(t and f) # Logical AND;"
      ],
      "execution_count": null,
      "outputs": []
    },
    {
      "cell_type": "code",
      "metadata": {
        "id": "KQ2FH6WZBS4d"
      },
      "source": [
        "print(t or f)  # Logical OR;"
      ],
      "execution_count": null,
      "outputs": []
    },
    {
      "cell_type": "code",
      "metadata": {
        "id": "tLdbESS2BUa4"
      },
      "source": [
        "print(not t)   # Logical NOT;"
      ],
      "execution_count": null,
      "outputs": []
    },
    {
      "cell_type": "code",
      "metadata": {
        "id": "tnk57JgzBWLM"
      },
      "source": [
        "print(t != f)  # Logical XOR;"
      ],
      "execution_count": null,
      "outputs": []
    },
    {
      "cell_type": "code",
      "metadata": {
        "id": "Cqq77_Cjl6xx"
      },
      "source": [
        "t1 = True\n",
        "f = False\n",
        "t2 = False"
      ],
      "execution_count": null,
      "outputs": []
    },
    {
      "cell_type": "code",
      "metadata": {
        "id": "QpMsboTWmFYp"
      },
      "source": [
        "# Testar lógica booleana com as três variáveis aqui."
      ],
      "execution_count": null,
      "outputs": []
    },
    {
      "cell_type": "markdown",
      "metadata": {
        "id": "SXlfrkgYCE9q"
      },
      "source": [
        "### **Strings**\n",
        "\n",
        "Strings são sequências imutáveis de caracteres Unicode."
      ]
    },
    {
      "cell_type": "code",
      "metadata": {
        "id": "UzVYESKBCc2k"
      },
      "source": [
        "hello = 'hello'   # Literais de string podem usar aspas simples\n",
        "world = \"world\"   # ou aspas duplas; isso não importa\n",
        "\n",
        "print(hello, len(hello))"
      ],
      "execution_count": null,
      "outputs": []
    },
    {
      "cell_type": "code",
      "metadata": {
        "id": "JEEKksO-CfOd"
      },
      "source": [
        "# Concatenação de Strings\n",
        "\n",
        "hw = hello + world  \n",
        "print(hw)"
      ],
      "execution_count": null,
      "outputs": []
    },
    {
      "cell_type": "code",
      "metadata": {
        "id": "_OIGrFhyCqIf"
      },
      "source": [
        "# formatação de string\n",
        "\n",
        "hw_ = 'formatando o {} {}'.format(hello, world)\n",
        "print(hw_)"
      ],
      "execution_count": null,
      "outputs": []
    },
    {
      "cell_type": "code",
      "metadata": {
        "id": "M5CTRl1XCuec"
      },
      "source": [
        "# formatação de string usando f''\n",
        "\n",
        "hw_ = f'Formatando o {hello} {world}'\n",
        "print(hw_)"
      ],
      "execution_count": null,
      "outputs": []
    },
    {
      "cell_type": "code",
      "metadata": {
        "id": "XEmx3a5pDFzm"
      },
      "source": [
        "x1 = 5\n",
        "x2 = 10.2\n",
        "\n",
        "print(f'Estou afirmando que: {x1} é menor do que {x2:.2f}')"
      ],
      "execution_count": null,
      "outputs": []
    },
    {
      "cell_type": "markdown",
      "metadata": {
        "id": "UXUiLG7_EAFC"
      },
      "source": [
        "Os objetos String têm vários métodos úteis nativos do python; \n",
        "\n",
        "Por exemplo:"
      ]
    },
    {
      "cell_type": "code",
      "metadata": {
        "id": "taAc_Am2Dt1i"
      },
      "source": [
        "# Variavel s com nome hello\n",
        "\n",
        "s = \"hello\"\n",
        "\n",
        "print(s)"
      ],
      "execution_count": null,
      "outputs": []
    },
    {
      "cell_type": "code",
      "metadata": {
        "id": "nkX26RbOCnV1"
      },
      "source": [
        "# Capitalizar uma string (primeira letra maiuscula)\n",
        "\n",
        "print(s.capitalize())  "
      ],
      "execution_count": null,
      "outputs": []
    },
    {
      "cell_type": "code",
      "metadata": {
        "id": "ACpsLxtmCYCr"
      },
      "source": [
        "# Converter a string pra maisculas; resultado é: \"HELLO\"\n",
        "\n",
        "print(s.upper())"
      ],
      "execution_count": null,
      "outputs": []
    },
    {
      "cell_type": "code",
      "metadata": {
        "id": "rrHRB3b4CZrX"
      },
      "source": [
        "# Justificar a direita, adicionando espaços em branco\n",
        "\n",
        "print(s.rjust(15))"
      ],
      "execution_count": null,
      "outputs": []
    },
    {
      "cell_type": "code",
      "metadata": {
        "id": "crlDq7CqCc0z"
      },
      "source": [
        "# Centrar uma string, usando espaços em branco\n",
        "\n",
        "print(s.center(15))"
      ],
      "execution_count": null,
      "outputs": []
    },
    {
      "cell_type": "code",
      "metadata": {
        "id": "Z0xFajHWCec0"
      },
      "source": [
        "# Trocar todas as ocorrencias de uma string com outra\n",
        "\n",
        "print(s.replace('l', 'L'))"
      ],
      "execution_count": null,
      "outputs": []
    },
    {
      "cell_type": "code",
      "metadata": {
        "id": "aQdev3AQCftq"
      },
      "source": [
        "# Remover espaços em branco do começo e final da string\n",
        "\n",
        "print('  world  '.strip())"
      ],
      "execution_count": null,
      "outputs": []
    },
    {
      "cell_type": "markdown",
      "metadata": {
        "id": "a9KsxVfGESx5"
      },
      "source": [
        "Você pode encontrar uma lista de todos os métodos de string na [documentação](https://docs.python.org/3.7/library/stdtypes.html#string-methods)."
      ]
    },
    {
      "cell_type": "markdown",
      "metadata": {
        "id": "xwDJAJUj6OWv"
      },
      "source": [
        "## **Operações básicas**"
      ]
    },
    {
      "cell_type": "code",
      "metadata": {
        "id": "v4IQQdKJ_PEA"
      },
      "source": [
        "x = 5\n",
        "\n",
        "x + 1"
      ],
      "execution_count": null,
      "outputs": []
    },
    {
      "cell_type": "code",
      "metadata": {
        "id": "smOInsah5Ba6"
      },
      "source": [
        "# Soma\n",
        "\n",
        "print(x + 1)  "
      ],
      "execution_count": null,
      "outputs": []
    },
    {
      "cell_type": "code",
      "metadata": {
        "id": "BCZ0559DDiQv"
      },
      "source": [
        "# subtração\n",
        "\n",
        "print(x - 1)  "
      ],
      "execution_count": null,
      "outputs": []
    },
    {
      "cell_type": "code",
      "metadata": {
        "id": "G0HSWyVlDkCN"
      },
      "source": [
        "# Multiplicação\n",
        "\n",
        "print(x * 2)  "
      ],
      "execution_count": null,
      "outputs": []
    },
    {
      "cell_type": "code",
      "metadata": {
        "id": "o4Hsq6y75V3t"
      },
      "source": [
        "# mesmo que x = x + 1\n",
        "\n",
        "x += 1 \n",
        "print(x)"
      ],
      "execution_count": null,
      "outputs": []
    },
    {
      "cell_type": "code",
      "metadata": {
        "id": "58rD9qs5DnED"
      },
      "source": [
        "# Exponenciação\n",
        "\n",
        "print(x ** 2) "
      ],
      "execution_count": null,
      "outputs": []
    },
    {
      "cell_type": "code",
      "metadata": {
        "id": "_conIQy0DorI"
      },
      "source": [
        "# Divisão\n",
        "\n",
        "print(x / 2)    "
      ],
      "execution_count": null,
      "outputs": []
    },
    {
      "cell_type": "code",
      "metadata": {
        "id": "pKz3kVjeDqX9"
      },
      "source": [
        "# Divisão inteira\n",
        "\n",
        "print(x // 2)   "
      ],
      "execution_count": null,
      "outputs": []
    },
    {
      "cell_type": "code",
      "metadata": {
        "id": "gqyfq-TeDufZ"
      },
      "source": [
        "# Resto\n",
        "\n",
        "print(x % 2)    "
      ],
      "execution_count": null,
      "outputs": []
    },
    {
      "cell_type": "code",
      "metadata": {
        "id": "ssPznzPs6GYM"
      },
      "source": [
        "# mesmo que x = x * 2\n",
        "\n",
        "x *= 2 \n",
        "print(x)"
      ],
      "execution_count": null,
      "outputs": []
    },
    {
      "cell_type": "code",
      "metadata": {
        "id": "kKwBt1SMDwEc"
      },
      "source": [
        "# Numero complexo \n",
        "\n",
        "print(complex(2,3))"
      ],
      "execution_count": null,
      "outputs": []
    },
    {
      "cell_type": "markdown",
      "metadata": {
        "id": "dLzbVRK2_laP"
      },
      "source": [
        "Todos os detalhes estão na [documentação](https://docs.python.org/3/library/stdtypes.html#numeric-types-int-float-complex) do python."
      ]
    },
    {
      "cell_type": "markdown",
      "metadata": {
        "id": "Qepz0M59AulD"
      },
      "source": [
        "## **Comparações**\n",
        "\n",
        "Existem oito operações de comparação em Python. Veja a descrição na [documentação](https://docs.python.org/3/library/stdtypes.html#comparisons)"
      ]
    },
    {
      "cell_type": "code",
      "metadata": {
        "id": "CLHBgdnaATYY"
      },
      "source": [
        "5 < 3"
      ],
      "execution_count": null,
      "outputs": []
    },
    {
      "cell_type": "code",
      "metadata": {
        "id": "vA71WTZ2BFsN"
      },
      "source": [
        "10 > 5"
      ],
      "execution_count": null,
      "outputs": []
    },
    {
      "cell_type": "code",
      "metadata": {
        "id": "9PHWn2XzBIUg"
      },
      "source": [
        "# Atribuindo True e False para t e f\n",
        "\n",
        "t = True\n",
        "f = False"
      ],
      "execution_count": null,
      "outputs": []
    },
    {
      "cell_type": "code",
      "metadata": {
        "id": "mNI88sdsEnNU"
      },
      "source": [
        "t == f"
      ],
      "execution_count": null,
      "outputs": []
    },
    {
      "cell_type": "code",
      "metadata": {
        "id": "qjRepjwQBOAJ"
      },
      "source": [
        "t != f"
      ],
      "execution_count": null,
      "outputs": []
    },
    {
      "cell_type": "markdown",
      "metadata": {
        "id": "8qa4M1RVFj6K"
      },
      "source": [
        "## **Entrada de usuário**\n",
        "\n",
        "A função input () permite a entrada de dados do usuário."
      ]
    },
    {
      "cell_type": "code",
      "metadata": {
        "id": "s6tdT6p5EuNs"
      },
      "source": [
        "input('Digite algo aqui: ')"
      ],
      "execution_count": null,
      "outputs": []
    },
    {
      "cell_type": "code",
      "metadata": {
        "id": "OXBxcLCTECDm"
      },
      "source": [
        "print('Digite seu nome:')\n",
        "\n",
        "x = input()\n",
        "\n",
        "print(f'Olá, {x}!')"
      ],
      "execution_count": null,
      "outputs": []
    },
    {
      "cell_type": "code",
      "metadata": {
        "id": "s0bisccSGHB8"
      },
      "source": [
        "print(type(x))"
      ],
      "execution_count": null,
      "outputs": []
    },
    {
      "cell_type": "code",
      "metadata": {
        "id": "WAqy_dXHGcFL"
      },
      "source": [
        "print('Digite um número inteiro:')\n",
        "num = input()\n",
        "\n",
        "print(type(num))"
      ],
      "execution_count": null,
      "outputs": []
    },
    {
      "cell_type": "code",
      "metadata": {
        "id": "auwu5Y6oGnUy"
      },
      "source": [
        "print('Digite um número inteiro:')\n",
        "num = int(input())\n",
        "\n",
        "print(type(num))"
      ],
      "execution_count": null,
      "outputs": []
    },
    {
      "cell_type": "code",
      "metadata": {
        "id": "TI9OawIMGxaF"
      },
      "source": [
        "# Colocando o texto direto no input...\n",
        "\n",
        "num = int(input('Digite um número inteiro: '))\n",
        "print(num)"
      ],
      "execution_count": null,
      "outputs": []
    },
    {
      "cell_type": "markdown",
      "metadata": {
        "id": "K6JIrxRyL8QU"
      },
      "source": [
        "### **Informações dos dados de input**"
      ]
    },
    {
      "cell_type": "code",
      "metadata": {
        "id": "-ZbWwjUrL_qd"
      },
      "source": [
        "num = input('Digite algo... ')"
      ],
      "execution_count": null,
      "outputs": []
    },
    {
      "cell_type": "code",
      "metadata": {
        "id": "Js0E_1d-NeAY"
      },
      "source": [
        "# info da variável\n",
        "\n",
        "num."
      ],
      "execution_count": null,
      "outputs": []
    },
    {
      "cell_type": "markdown",
      "metadata": {
        "id": "bOs5illcI4W4"
      },
      "source": [
        "## **Desafio 01:**\n",
        "\n",
        "Escreva um código que leia dois números complexos do usuário e calcule a soma entre eles."
      ]
    },
    {
      "cell_type": "code",
      "metadata": {
        "id": "_-0UbQ4kVQZs"
      },
      "source": [
        ""
      ],
      "execution_count": null,
      "outputs": []
    },
    {
      "cell_type": "markdown",
      "metadata": {
        "id": "IJqXHgGwNydh"
      },
      "source": [
        "## **Desafio 02:**\n",
        "\n",
        "Escreva um código que leia algo do usuário e mostre na tela o tipo do dado e, pelo menos, 4 informações possíveis sobre ele. \n",
        "\n",
        "Ex: \n",
        "\n",
        "Tipo do dado é string\n",
        "\n",
        "A variável é alfanumérica\n",
        "\n",
        ".\n",
        "\n",
        ".\n",
        "\n",
        ".\n",
        "\n",
        "."
      ]
    },
    {
      "cell_type": "code",
      "metadata": {
        "id": "1dnVkItQV0wO"
      },
      "source": [
        ""
      ],
      "execution_count": null,
      "outputs": []
    },
    {
      "cell_type": "markdown",
      "metadata": {
        "id": "iyh6DX2mtNr9"
      },
      "source": [
        "## **Condições Python e instruções If**\n",
        "\n",
        "Python suporta as condições lógicas usuais da matemática.\n",
        "\n",
        "Vamos ver a condição **if**"
      ]
    },
    {
      "cell_type": "code",
      "metadata": {
        "id": "xx4ga3n0t4XP"
      },
      "source": [
        "a = 33\n",
        "b = 200\n",
        "\n",
        "if b > a:\n",
        "  print(\"b é maior do que a\")"
      ],
      "execution_count": null,
      "outputs": []
    },
    {
      "cell_type": "markdown",
      "metadata": {
        "id": "GT9EKar6uuZp"
      },
      "source": [
        "A palavra-chave **elif** é a forma de python de dizer \"se as condições anteriores não eram verdadeiras, tente esta outra condição\"."
      ]
    },
    {
      "cell_type": "code",
      "metadata": {
        "id": "ANbSQcJ-uzLB"
      },
      "source": [
        "a = 33\n",
        "b = 33\n",
        "\n",
        "if b > a:\n",
        "  print(\"b é maior do que a\")\n",
        "elif a == b:\n",
        "  print(\"a e b são iguais\")"
      ],
      "execution_count": null,
      "outputs": []
    },
    {
      "cell_type": "markdown",
      "metadata": {
        "id": "5BqOLNYyvDwo"
      },
      "source": [
        "A palavra-chave **else** captura qualquer coisa que não seja capturada pelas condições anteriores."
      ]
    },
    {
      "cell_type": "code",
      "metadata": {
        "id": "ZSwgIEXYvEug"
      },
      "source": [
        "a = 200\n",
        "b = 33\n",
        "\n",
        "if b > a:\n",
        "  print(\"b é maior do que a\")\n",
        "elif a == b:\n",
        "  print(\"a e b são iguais\")\n",
        "else:\n",
        "  print(\"a é maior do que b\")\n",
        "  #print(f'{a} é maior do que {b}')\n",
        "  #print('Entrou no no ultimo teste')"
      ],
      "execution_count": null,
      "outputs": []
    },
    {
      "cell_type": "markdown",
      "metadata": {
        "id": "hIBm2bLOvTBl"
      },
      "source": [
        "**Nota:** Tudo que estiver no bloco identado será executado.\n",
        "\n",
        "Caso haja apenas uma instrução a ser executada, você pode colocar na mesma linha da instrução if"
      ]
    },
    {
      "cell_type": "code",
      "metadata": {
        "id": "cTyUA-59vqur"
      },
      "source": [
        "if a > b: print(\"a é maior do que b\")"
      ],
      "execution_count": null,
      "outputs": []
    },
    {
      "cell_type": "code",
      "metadata": {
        "id": "7dHsGBc5xBLj"
      },
      "source": [
        "a = 200\n",
        "b = 33\n",
        "\n",
        "if b > a:\n",
        "  print(\"b é maior do que a\")\n",
        "elif a == b:\n",
        "  print(\"a e b são iguais\")\n",
        "elif a != b:\n",
        "  print('a diferente de b')\n",
        "else:\n",
        "  print(\"a é maior do que b\")\n",
        "  #print(f'{a} é maior do que {b}')\n",
        "  #print('Entrou no no ultimo teste')"
      ],
      "execution_count": null,
      "outputs": []
    },
    {
      "cell_type": "markdown",
      "metadata": {
        "id": "WaBmqDsVxPwe"
      },
      "source": [
        "**Nota:** No resultado acima há duas condições verdadeiras. Mas, no teste elif quando a primeira é encontarda os próximos testes nem são realizados. "
      ]
    },
    {
      "cell_type": "markdown",
      "metadata": {
        "id": "7vURmLsc1oid"
      },
      "source": [
        "## **Python Loops**\n",
        "\n",
        "Loops podem ser criados com **for** ou **while**"
      ]
    },
    {
      "cell_type": "markdown",
      "metadata": {
        "id": "W3zloKdg17ql"
      },
      "source": [
        "#### **While Loop**\n",
        "\n",
        "Com o loop while, podemos executar um conjunto de instruções, desde que uma condição seja verdadeira."
      ]
    },
    {
      "cell_type": "code",
      "metadata": {
        "id": "8AgjDCUc1vsw"
      },
      "source": [
        "#Imprima i, desde que i seja menor que 6:\n",
        "\n",
        "i = 1\n",
        "\n",
        "while i < 6:\n",
        "  print(i)\n",
        "  i += 1"
      ],
      "execution_count": null,
      "outputs": []
    },
    {
      "cell_type": "markdown",
      "metadata": {
        "id": "0c4QiL032Rsd"
      },
      "source": [
        "**Nota:** lembre-se de incrementar i, ou então o loop continuará para sempre."
      ]
    },
    {
      "cell_type": "markdown",
      "metadata": {
        "id": "yPr6GmJ_2bWK"
      },
      "source": [
        "**A declaração de quebra**\n",
        "\n",
        "Com a instrução **break**, podemos parar o loop mesmo se a condição while for verdadeira:"
      ]
    },
    {
      "cell_type": "code",
      "metadata": {
        "id": "aBuwq9ZC2hY0"
      },
      "source": [
        "i = 1\n",
        "\n",
        "while i < 10:\n",
        "  print(i)\n",
        "  if i == 6:\n",
        "    break\n",
        "  i += 1"
      ],
      "execution_count": null,
      "outputs": []
    },
    {
      "cell_type": "markdown",
      "metadata": {
        "id": "UB38CF9t3--K"
      },
      "source": [
        "**A declaração continue**\n",
        "\n",
        "Com a instrução **continue**, podemos parar a iteração atual e continuar com a próxima:"
      ]
    },
    {
      "cell_type": "code",
      "metadata": {
        "id": "JMW8h-NO30qD"
      },
      "source": [
        "i = 0\n",
        "while i < 6:\n",
        "  i += 1\n",
        "  if i == 3:\n",
        "    continue\n",
        "  print(i)"
      ],
      "execution_count": null,
      "outputs": []
    },
    {
      "cell_type": "markdown",
      "metadata": {
        "id": "kadkftiV4OlR"
      },
      "source": [
        "**A declaração else**\n",
        "\n",
        "Com a instrução **else**, podemos executar um bloco de código uma vez, quando a condição não for mais verdadeira:"
      ]
    },
    {
      "cell_type": "code",
      "metadata": {
        "id": "DbCfBhxD4QVx"
      },
      "source": [
        "i = 1\n",
        "while i < 6:\n",
        "  print(i)\n",
        "  i += 1\n",
        "else:\n",
        "  print(\"i deixou de ser menor do que 6\")"
      ],
      "execution_count": null,
      "outputs": []
    },
    {
      "cell_type": "markdown",
      "metadata": {
        "id": "nLEjDHtt4fvi"
      },
      "source": [
        "#### **For Loop**\n",
        "\n",
        "Um loop for é usado para iterar sobre uma sequência (que é uma lista, uma tupla, um dicionário, um conjunto ou uma string).\n",
        "\n",
        "Isso é menos parecido com a palavra-chave for em outras linguagens de programação e funciona mais como um método iterador encontrado em outras linguagens de programação orientadas a objetos.\n",
        "\n",
        "Com o loop for, podemos executar um conjunto de instruções, uma vez para cada item em uma lista, tupla, conjunto etc."
      ]
    },
    {
      "cell_type": "code",
      "metadata": {
        "id": "13APiHiq4o3f"
      },
      "source": [
        "objetos = ['cadeira', 'cama', 'mesa']\n",
        "\n",
        "for x in objetos:\n",
        "  print(x)"
      ],
      "execution_count": null,
      "outputs": []
    },
    {
      "cell_type": "code",
      "metadata": {
        "id": "lJJ62OT55jVV"
      },
      "source": [
        "# Loop por uma string:\n",
        "\n",
        "for x in \"cadeira\":\n",
        "  print(x)"
      ],
      "execution_count": null,
      "outputs": []
    },
    {
      "cell_type": "code",
      "metadata": {
        "id": "5A9Dn_g950V6"
      },
      "source": [
        "# break statement\n",
        "\n",
        "for x in objetos:\n",
        "  print(x)\n",
        "  if x == 'cama':\n",
        "    break"
      ],
      "execution_count": null,
      "outputs": []
    },
    {
      "cell_type": "code",
      "metadata": {
        "id": "QYyeyPhu6MND"
      },
      "source": [
        "# continue statement\n",
        "\n",
        "for x in objetos:\n",
        "  if x == 'cama':\n",
        "    continue\n",
        "  print(x)"
      ],
      "execution_count": null,
      "outputs": []
    },
    {
      "cell_type": "markdown",
      "metadata": {
        "id": "3r7Ud9GO6YmM"
      },
      "source": [
        "**For com a função range()**\n",
        "\n",
        "Para percorrer um conjunto de código um determinado número de vezes, podemos usar a função range().\n",
        "\n",
        "A função range() retorna uma sequência de números, começando em 0 por padrão, e incrementos em 1 (por padrão), e termina em um número especificado."
      ]
    },
    {
      "cell_type": "code",
      "metadata": {
        "id": "5KbS5MOk6kvD"
      },
      "source": [
        "# Usando o range()\n",
        "\n",
        "range(5)"
      ],
      "execution_count": null,
      "outputs": []
    },
    {
      "cell_type": "code",
      "metadata": {
        "id": "YveyUOrNLiUt"
      },
      "source": [
        "# Atribuindo o range em uma variável\n",
        "\n",
        "numeros = range(5)\n",
        "\n",
        "print(numeros)"
      ],
      "execution_count": null,
      "outputs": []
    },
    {
      "cell_type": "code",
      "metadata": {
        "id": "AYjGmXOy6gze"
      },
      "source": [
        "# Loop pelo range\n",
        "\n",
        "for x in range(6):\n",
        "  print(x)"
      ],
      "execution_count": null,
      "outputs": []
    },
    {
      "cell_type": "code",
      "metadata": {
        "id": "qRCVoGUl64pS"
      },
      "source": [
        "# range com inicio,fim\n",
        "\n",
        "for x in range(2,16):\n",
        "  print(x)"
      ],
      "execution_count": null,
      "outputs": []
    },
    {
      "cell_type": "code",
      "metadata": {
        "id": "enl3M3zLL6Mg"
      },
      "source": [
        "# range com inicio,fim,passo\n",
        "\n",
        "for x in range(2,16,3):\n",
        "  print(x)"
      ],
      "execution_count": null,
      "outputs": []
    },
    {
      "cell_type": "code",
      "metadata": {
        "id": "EN4-mITm7DbT"
      },
      "source": [
        "# else para indicar final do loop\n",
        "\n",
        "for x in range(6):\n",
        "  print(x)\n",
        "else:\n",
        "  print(\"finalmente terminou!\")"
      ],
      "execution_count": null,
      "outputs": []
    },
    {
      "cell_type": "markdown",
      "metadata": {
        "id": "luF9-vfq7WHW"
      },
      "source": [
        "**Nota:** O bloco **else** NÃO será executado se o loop for interrompido por uma instrução break."
      ]
    },
    {
      "cell_type": "code",
      "metadata": {
        "id": "j6LnsuuJ7QGL"
      },
      "source": [
        "for x in range(6):\n",
        "  if x == 3: break\n",
        "  print(x)\n",
        "else:\n",
        "  print(\"finalmente terminou!\")"
      ],
      "execution_count": null,
      "outputs": []
    },
    {
      "cell_type": "markdown",
      "metadata": {
        "id": "81uL4xI_7ehm"
      },
      "source": [
        "**Loops aninhados**\n",
        "\n",
        "O \"loop interno\" será executado uma vez para cada iteração do \"loop externo\":"
      ]
    },
    {
      "cell_type": "code",
      "metadata": {
        "id": "maIb15d-7kw-"
      },
      "source": [
        "adj = [\"red\", \"big\", \"tasty\"]\n",
        "frutas = [\"apple\", \"banana\", \"cherry\"]\n",
        "\n",
        "for x in adj:\n",
        "  for y in frutas:\n",
        "    print(x, y)"
      ],
      "execution_count": null,
      "outputs": []
    },
    {
      "cell_type": "markdown",
      "metadata": {
        "id": "qjmAEuc58Asf"
      },
      "source": [
        "### **Exemplo:**\n",
        "\n",
        "Desenvolva um programa que leia o primeiro termo e a razão de PA e mostre os 10 primeiros termos dessa progressão.\n",
        "\n",
        "A equação da PA é: \n",
        "\n",
        "$a_n = a_1 + (n-1) \\cdot r$"
      ]
    },
    {
      "cell_type": "code",
      "metadata": {
        "id": "DxE4UQa89DBO"
      },
      "source": [
        "a1 = int(input('Digite a primeiro termo da PA: '))\n",
        "r = int(input('Digite a razão da PA: '))\n",
        "\n",
        "for n in range(1,11):\n",
        "  print(a1 + (n-1)*r)"
      ],
      "execution_count": null,
      "outputs": []
    },
    {
      "cell_type": "markdown",
      "metadata": {
        "id": "vJ1s7hikCwSE"
      },
      "source": [
        "## **Desafio 03:**\n",
        "\n",
        "Faça um programa que leia o ano de nascimento de um atleta e mostre sua idade e categoria, de acordo com a idade:\n",
        "- Até 9 anos: MIRIM\n",
        "- Até 14 anos: INFANTIL\n",
        "- Até 19 anos: JÚNIOR\n",
        "- Até 25 anos: SÊNIOR\n",
        "- Acima de 25 anos: MASTER\n",
        "\n",
        "\n",
        "*Exemplo de mensagem para o programa:\n",
        "\n",
        "O atleta tem X anos.\n",
        "\n",
        "Classificação: Y"
      ]
    },
    {
      "cell_type": "code",
      "metadata": {
        "id": "uLxW8qV78EIL"
      },
      "source": [
        ""
      ],
      "execution_count": null,
      "outputs": []
    },
    {
      "cell_type": "markdown",
      "metadata": {
        "id": "lzayVRfoms6d"
      },
      "source": [
        "## **Coleções em Python**\n",
        "\n",
        "Python inclui vários tipos de containers integrados: listas (list), dicionários (dict), conjuntos unicos (sets) e tuplas (tuples)."
      ]
    },
    {
      "cell_type": "markdown",
      "metadata": {
        "id": "Xk0_8DB7qtb4"
      },
      "source": [
        "#### **Listas**\n",
        "\n",
        "- As listas são usadas para armazenar vários itens em uma única variável.\n",
        "\n",
        "- As listas são criadas usando colchetes [].\n",
        "\n",
        "- Os itens da lista são ordenados, alteráveis e permitem valores duplicados.\n",
        "\n",
        "- Os itens da lista são indexados, o primeiro item tem o índice [0], o segundo item tem o índice [1] etc."
      ]
    },
    {
      "cell_type": "code",
      "metadata": {
        "id": "Zawbi3gEmu1w"
      },
      "source": [
        "# Criando uma lista\n",
        "\n",
        "lista1 = ['maça', 'banana', 'limao']\n",
        "\n",
        "print(lista1)"
      ],
      "execution_count": null,
      "outputs": []
    },
    {
      "cell_type": "code",
      "metadata": {
        "id": "YfTgK3U1sGIO"
      },
      "source": [
        "print(type(lista1))"
      ],
      "execution_count": null,
      "outputs": []
    },
    {
      "cell_type": "code",
      "metadata": {
        "id": "0l5TCrBUsPCz"
      },
      "source": [
        "# valor duplicado\n",
        "\n",
        "lista2 = ['maça', 'banana', 'limao', 'maça']\n",
        "print(lista2)"
      ],
      "execution_count": null,
      "outputs": []
    },
    {
      "cell_type": "code",
      "metadata": {
        "id": "2cAyCG05s1Bg"
      },
      "source": [
        "# Tamanho da lista\n",
        "\n",
        "print(len(lista2))"
      ],
      "execution_count": null,
      "outputs": []
    },
    {
      "cell_type": "code",
      "metadata": {
        "id": "7JcbTKwVs-hw"
      },
      "source": [
        "lista3 = ['maça', 'banana', ['limao', 'uva']]"
      ],
      "execution_count": null,
      "outputs": []
    },
    {
      "cell_type": "code",
      "metadata": {
        "id": "mYzARYEFtMB0"
      },
      "source": [
        "len(lista3[0])"
      ],
      "execution_count": null,
      "outputs": []
    },
    {
      "cell_type": "code",
      "metadata": {
        "id": "3114F_VStNpm"
      },
      "source": [
        "# Os itens da lista são indexados e você pode acessá-los referindo-se ao número do índice\n",
        "\n",
        "print(lista3[0])"
      ],
      "execution_count": null,
      "outputs": []
    },
    {
      "cell_type": "code",
      "metadata": {
        "id": "HvUQfuxevAja"
      },
      "source": [
        "# Os índices negativos contam a partir do final da lista\n",
        "\n",
        "print(lista3[-1])"
      ],
      "execution_count": null,
      "outputs": []
    },
    {
      "cell_type": "markdown",
      "metadata": {
        "id": "o8eEyLLqvWXE"
      },
      "source": [
        "Você pode especificar um intervalo de índices, especificando onde começar e onde terminar o intervalo.\n",
        "\n",
        "Ao especificar um intervalo, o valor de retorno será uma nova lista com os itens especificados."
      ]
    },
    {
      "cell_type": "code",
      "metadata": {
        "id": "_vPJmCLRvYKF"
      },
      "source": [
        "thislist = [\"maça\", \"banana\", \"cereja\", \"laranja\", \"kiwi\", \"melao\", \"manga\"]\n",
        "print(thislist[1:5])"
      ],
      "execution_count": null,
      "outputs": []
    },
    {
      "cell_type": "markdown",
      "metadata": {
        "id": "9-zGA4SbwSFZ"
      },
      "source": [
        "Uma lista pode conter diferentes tipos de dados"
      ]
    },
    {
      "cell_type": "code",
      "metadata": {
        "id": "Auqbb-zgvbWo"
      },
      "source": [
        "lista4 = [\"abc\", 34, True, 40.5, \"male\"]\n",
        "print(lista4)\n",
        "print(type(lista4))"
      ],
      "execution_count": null,
      "outputs": []
    },
    {
      "cell_type": "markdown",
      "metadata": {
        "id": "jBYRnmLQxbZ2"
      },
      "source": [
        "Para inserir um novo item da lista, sem substituir nenhum dos valores existentes, podemos usar o método insert().\n",
        "\n",
        "O método insert() insere um item no índice especificado."
      ]
    },
    {
      "cell_type": "code",
      "metadata": {
        "id": "A93-wqgfwbwv"
      },
      "source": [
        "frutas = [\"apple\", \"banana\", \"laranja\"]\n",
        "print(f'lista original: {frutas}')"
      ],
      "execution_count": null,
      "outputs": []
    },
    {
      "cell_type": "code",
      "metadata": {
        "id": "22LusrOhQrcp"
      },
      "source": [
        "frutas.insert(2, \"melancia\")\n",
        "\n",
        "print(f'lista alterada: {frutas}')"
      ],
      "execution_count": null,
      "outputs": []
    },
    {
      "cell_type": "markdown",
      "metadata": {
        "id": "o_v01ZnPyHrO"
      },
      "source": [
        "Para adicionar um item ao final da lista, use o método append():"
      ]
    },
    {
      "cell_type": "code",
      "metadata": {
        "id": "kQigrUkext3E"
      },
      "source": [
        "frutas = [\"maça\", \"banana\", \"laranja\"]\n",
        "print(f'lista original: {frutas}')"
      ],
      "execution_count": null,
      "outputs": []
    },
    {
      "cell_type": "code",
      "metadata": {
        "id": "Ipin853gQwVk"
      },
      "source": [
        "frutas.append(\"melao\")\n",
        "print(f'lista alterada com append(): {frutas}')"
      ],
      "execution_count": null,
      "outputs": []
    },
    {
      "cell_type": "markdown",
      "metadata": {
        "id": "y62mE6E9yiV8"
      },
      "source": [
        "Para anexar elementos de outra lista à lista atual, use o método extend()."
      ]
    },
    {
      "cell_type": "code",
      "metadata": {
        "id": "ImFbccKuykrC"
      },
      "source": [
        "frutas1 = ['maça', 'banana', 'laranja']\n",
        "frutas2 = ['manga', 'melancia', 'melao']\n",
        "\n",
        "frutas1.extend(frutas2)\n",
        "print(frutas1)"
      ],
      "execution_count": null,
      "outputs": []
    },
    {
      "cell_type": "markdown",
      "metadata": {
        "id": "NP0dTv4WzT1U"
      },
      "source": [
        "O método remove() remove o item especificado."
      ]
    },
    {
      "cell_type": "code",
      "metadata": {
        "id": "DoWyfkPWzU7k"
      },
      "source": [
        "frutas1.remove('banana')\n",
        "print(frutas1)"
      ],
      "execution_count": null,
      "outputs": []
    },
    {
      "cell_type": "markdown",
      "metadata": {
        "id": "gh6KtmlnziAD"
      },
      "source": [
        "O método pop() remove o índice especificado.\n",
        "\n",
        "Se você não especificar o índice, o método pop() remove o último item."
      ]
    },
    {
      "cell_type": "code",
      "metadata": {
        "id": "AvzM3jxszmJ0"
      },
      "source": [
        "frutas1.pop()\n",
        "print(frutas1)"
      ],
      "execution_count": null,
      "outputs": []
    },
    {
      "cell_type": "code",
      "metadata": {
        "id": "pMj996dAzqta"
      },
      "source": [
        "frutas1.pop(2)\n",
        "print(frutas1)"
      ],
      "execution_count": null,
      "outputs": []
    },
    {
      "cell_type": "markdown",
      "metadata": {
        "id": "N5RxNfiB0wzZ"
      },
      "source": [
        "**Percorrer uma lista**\n",
        "\n",
        "Você pode percorrer os itens da lista usando um loop for."
      ]
    },
    {
      "cell_type": "code",
      "metadata": {
        "id": "RjYVkxPL03P3"
      },
      "source": [
        "frutas = [\"maça\", \"banana\", \"cereja\", \"laranja\", \"kiwi\", \"melao\", \"manga\"]\n",
        "\n",
        "for x in frutas:\n",
        "  print(x)"
      ],
      "execution_count": null,
      "outputs": []
    },
    {
      "cell_type": "markdown",
      "metadata": {
        "id": "0zSW_wbP1Vzk"
      },
      "source": [
        "Se você quiser acessar o índice de cada elemento dentro do corpo de um loop, use a função incorporada enumerate():"
      ]
    },
    {
      "cell_type": "code",
      "metadata": {
        "id": "kyOSaHD51VJY"
      },
      "source": [
        "animals = ['cat', 'dog', 'monkey']\n",
        "\n",
        "for idx, animal in enumerate(animals):\n",
        "    print('{} : {}'.format(idx, animal))"
      ],
      "execution_count": null,
      "outputs": []
    },
    {
      "cell_type": "markdown",
      "metadata": {
        "id": "jg45Hwoq1uu4"
      },
      "source": [
        "**Looping usando compreensão de lista**\n",
        "\n",
        "Compreensão de lista oferece a sintaxe mais curta para percorrer listas."
      ]
    },
    {
      "cell_type": "markdown",
      "metadata": {
        "id": "1VHkXOvb2VEm"
      },
      "source": [
        "Ao programar, frequentemente queremos transformar um tipo de dado em outro. Como um exemplo simples, considere o seguinte código que calcula números quadrados:"
      ]
    },
    {
      "cell_type": "code",
      "metadata": {
        "id": "BnfhPiTD2Xvt"
      },
      "source": [
        "nums = [0, 1, 2, 3, 4]\n",
        "squares = []\n",
        "\n",
        "for x in nums:\n",
        "    squares.append(x ** 2)\n",
        "\n",
        "print(squares)"
      ],
      "execution_count": null,
      "outputs": []
    },
    {
      "cell_type": "markdown",
      "metadata": {
        "id": "XVKrVuc-2ey6"
      },
      "source": [
        "Você pode tornar este código mais simples usando uma **compreensão de lista**:"
      ]
    },
    {
      "cell_type": "code",
      "metadata": {
        "id": "CF32pe1D2hrw"
      },
      "source": [
        "nums = [0, 1, 2, 3, 4]\n",
        "\n",
        "squares = [x ** 2 for x in nums]\n",
        "\n",
        "print(squares)"
      ],
      "execution_count": null,
      "outputs": []
    },
    {
      "cell_type": "markdown",
      "metadata": {
        "id": "c0JBvdjd2pWH"
      },
      "source": [
        "As compreensões de lista também podem conter condições:"
      ]
    },
    {
      "cell_type": "code",
      "metadata": {
        "id": "Ps8DvA_a2rpM"
      },
      "source": [
        "nums = [0, 1, 2, 3, 4]\n",
        "\n",
        "even_squares = [x ** 2 for x in nums if x % 2 == 0]\n",
        "\n",
        "print(even_squares)"
      ],
      "execution_count": null,
      "outputs": []
    },
    {
      "cell_type": "markdown",
      "metadata": {
        "id": "63yLCrjM20Wc"
      },
      "source": [
        "Exemplo com as frutas..."
      ]
    },
    {
      "cell_type": "code",
      "metadata": {
        "id": "F5Hg7FpK25GQ"
      },
      "source": [
        "frutas = [\"maça\", \"banana\", \"cereja\", \"laranja\", \"kiwi\", \"melao\", \"manga\"]\n",
        "\n",
        "newlist = [x for x in frutas if x != \"maça\"]\n",
        "print(newlist)"
      ],
      "execution_count": null,
      "outputs": []
    },
    {
      "cell_type": "markdown",
      "metadata": {
        "id": "q44Px2V5z3wZ"
      },
      "source": [
        "Para mais informações veja a [documentaçao](https://docs.python.org/3/tutorial/datastructures.html#more-on-lists)"
      ]
    },
    {
      "cell_type": "markdown",
      "metadata": {
        "id": "jVNhF65W3Wdc"
      },
      "source": [
        "#### **Tuplas**\n",
        "\n",
        "- Tuplas são usadas para armazenar vários itens em uma única variável.\n",
        "\n",
        "- Uma tupla é uma coleção ordenada e imutável:\n",
        "  - não podemos mudar, adicionar ou remover itens após a tupla ter sido criada.\n",
        "\n",
        "- As tuplas são escritas com parênteses ().\n",
        "\n",
        "- Os itens de tupla são ordenados, imutáveis e permitem valores duplicados.\n",
        "\n",
        "- Os itens de tupla são indexados, o primeiro item tem índice [0], o segundo item tem índice [1], etc."
      ]
    },
    {
      "cell_type": "code",
      "metadata": {
        "id": "hKUZBx2X3XtB"
      },
      "source": [
        "# Criando uma tupla\n",
        "\n",
        "tupla1 = ('maça', 'banana', 'melao')\n",
        "\n",
        "print(tupla1)\n",
        "print(type(tupla1))"
      ],
      "execution_count": null,
      "outputs": []
    },
    {
      "cell_type": "code",
      "metadata": {
        "id": "4mNdm5hX5CMg"
      },
      "source": [
        "# tamanho da tupla\n",
        "print(len(tupla1))"
      ],
      "execution_count": null,
      "outputs": []
    },
    {
      "cell_type": "markdown",
      "metadata": {
        "id": "KDEtjgVt5_Iu"
      },
      "source": [
        "Você pode acessar itens de tupla referindo-se ao número do índice, entre colchetes"
      ]
    },
    {
      "cell_type": "code",
      "metadata": {
        "id": "vRHwKG_z54Vf"
      },
      "source": [
        "frutas = (\"maça\", \"banana\", \"cereja\", \"laranja\", \"kiwi\", \"melao\", \"manga\")\n",
        "\n",
        "print(frutas[0])"
      ],
      "execution_count": null,
      "outputs": []
    },
    {
      "cell_type": "code",
      "metadata": {
        "id": "xsJBGzOq6Bfo"
      },
      "source": [
        "print(frutas[-1])"
      ],
      "execution_count": null,
      "outputs": []
    },
    {
      "cell_type": "code",
      "metadata": {
        "id": "oQq235nW6U2m"
      },
      "source": [
        "print(frutas[2:6])"
      ],
      "execution_count": null,
      "outputs": []
    },
    {
      "cell_type": "markdown",
      "metadata": {
        "id": "S90mSN4K6uNx"
      },
      "source": [
        "Como as tuplas são imutáveis temos que usar uma soluçao alternativa para altera-lá. :)\n",
        "\n",
        "Converta a tupla em lista, altere a lista e depois converta novamente em tupla."
      ]
    },
    {
      "cell_type": "code",
      "metadata": {
        "id": "ofDiJ-_D6YEb"
      },
      "source": [
        "x = (\"apple\", \"banana\", \"cherry\")\n",
        "print(x)\n",
        "\n",
        "y = list(x)\n",
        "print(y)\n",
        "\n",
        "y[1] = \"kiwi\"\n",
        "x = tuple(y)\n",
        "\n",
        "print(x)"
      ],
      "execution_count": null,
      "outputs": []
    },
    {
      "cell_type": "markdown",
      "metadata": {
        "id": "-hFsICUC7d5r"
      },
      "source": [
        "**Desempacotando uma tupla**\n",
        "\n",
        "Quando criamos uma tupla, normalmente atribuímos valores a ela. Isso é chamado de \"compactação\" de uma tupla."
      ]
    },
    {
      "cell_type": "code",
      "metadata": {
        "id": "H2As_p2-7MHF"
      },
      "source": [
        "# Empacotando a tupla\n",
        "\n",
        "frutas = ('maça', 'banana', 'uva')"
      ],
      "execution_count": null,
      "outputs": []
    },
    {
      "cell_type": "code",
      "metadata": {
        "id": "g-oK6CAg73Lk"
      },
      "source": [
        "# Desempacotando a tupla\n",
        "\n",
        "(green, yellow, red) = frutas\n",
        "\n",
        "print(green)\n",
        "print(yellow)\n",
        "print(red)"
      ],
      "execution_count": null,
      "outputs": []
    },
    {
      "cell_type": "markdown",
      "metadata": {
        "id": "JWzPBXdO8QE5"
      },
      "source": [
        "**Nota:** O número de variáveis deve corresponder ao número de valores na tupla, caso contrário, você deve usar um asterisco para coletar os valores restantes como uma lista."
      ]
    },
    {
      "cell_type": "code",
      "metadata": {
        "id": "uBN85kG48EiU"
      },
      "source": [
        "frutas = (\"maça\", \"banana\", \"cereja\", \"morango\", \"framboesa\")\n",
        "\n",
        "(green, yellow, *red) = frutas\n",
        "\n",
        "print(green)\n",
        "print(yellow)\n",
        "print(red)"
      ],
      "execution_count": null,
      "outputs": []
    },
    {
      "cell_type": "code",
      "metadata": {
        "id": "BeDTAeCA8tQ6"
      },
      "source": [
        "# Também podemos fazer o loop sobre a tupla como fizemos na lista\n",
        "\n",
        "frutas = (\"maça\", \"banana\", \"cereja\", \"morango\", \"framboesa\")\n",
        "\n",
        "for fruta in frutas:\n",
        "  print(f'A fruta é: {fruta}')"
      ],
      "execution_count": null,
      "outputs": []
    },
    {
      "cell_type": "markdown",
      "metadata": {
        "id": "fgnRn5lP_v7X"
      },
      "source": [
        "Python tem dois métodos integrados que você pode usar em tuplas:\n",
        "\n",
        "- O método count() retorna o número de vezes que um valor especificado aparece na tupla.\n",
        "\n",
        "- O método index() encontra a primeira ocorrência do valor especificado."
      ]
    },
    {
      "cell_type": "code",
      "metadata": {
        "id": "SyTFm-yc-W3y"
      },
      "source": [
        "frutas = (\"maça\", \"banana\", \"cereja\", \"morango\", \"framboesa\", 'cereja')"
      ],
      "execution_count": null,
      "outputs": []
    },
    {
      "cell_type": "code",
      "metadata": {
        "id": "6EVuUIW7AEBq"
      },
      "source": [
        "print(frutas.count('maça'))"
      ],
      "execution_count": null,
      "outputs": []
    },
    {
      "cell_type": "code",
      "metadata": {
        "id": "ijx8KC4QAQ8K"
      },
      "source": [
        "print(frutas.index('maça'))"
      ],
      "execution_count": null,
      "outputs": []
    },
    {
      "cell_type": "code",
      "metadata": {
        "id": "GPo5uRZzSac7"
      },
      "source": [
        "print(frutas.count('cereja'))"
      ],
      "execution_count": null,
      "outputs": []
    },
    {
      "cell_type": "code",
      "metadata": {
        "id": "kuKVguAPSdKP"
      },
      "source": [
        "print(frutas.index('cereja'))"
      ],
      "execution_count": null,
      "outputs": []
    },
    {
      "cell_type": "markdown",
      "metadata": {
        "id": "fG6EIKg-Ajiz"
      },
      "source": [
        "#### **Sets**\n",
        "\n",
        "- Os conjuntos são usados para armazenar vários itens em uma única variável.\n",
        "\n",
        "- Um conjunto é uma coleção não ordenada e indexada:\n",
        "  - portanto, você não pode ter certeza em qual ordem os itens aparecerão.\n",
        "\n",
        "- Os conjuntos são escritos com chaves {}.\n",
        "\n",
        "- Os itens definidos não são ordenados, não podem ser alterados e não permitem valores duplicados.\n",
        "\n",
        "- Depois que um conjunto é criado, você não pode alterar seus itens, mas pode adicionar novos itens."
      ]
    },
    {
      "cell_type": "code",
      "metadata": {
        "id": "JpFenOpjARST"
      },
      "source": [
        "frutas = {'maça', 'banana', 'uva', 'limao'}"
      ],
      "execution_count": null,
      "outputs": []
    },
    {
      "cell_type": "code",
      "metadata": {
        "id": "EWRbrV9oA8v9"
      },
      "source": [
        "print(frutas)"
      ],
      "execution_count": null,
      "outputs": []
    },
    {
      "cell_type": "code",
      "metadata": {
        "id": "IiB_7iuuBnYf"
      },
      "source": [
        "# Criando set com valor duplicado \n",
        "frutas = {'maça', 'banana', 'uva', 'limao', 'banana'}"
      ],
      "execution_count": null,
      "outputs": []
    },
    {
      "cell_type": "code",
      "metadata": {
        "id": "r5vP0Dd8BxFY"
      },
      "source": [
        "print(frutas)"
      ],
      "execution_count": null,
      "outputs": []
    },
    {
      "cell_type": "markdown",
      "metadata": {
        "id": "pBWDh7SYCGw1"
      },
      "source": [
        "Você não pode acessar itens em um conjunto referindo-se a um índice ou chave.\n",
        "\n",
        "Mas você pode percorrer os itens do conjunto usando um loop **for**, ou perguntar se um valor especificado está presente em um conjunto, usando a palavra-chave **in**."
      ]
    },
    {
      "cell_type": "code",
      "metadata": {
        "id": "bOf0j9mmBxYo"
      },
      "source": [
        "for fruta in frutas:\n",
        "  print(fruta)"
      ],
      "execution_count": null,
      "outputs": []
    },
    {
      "cell_type": "code",
      "metadata": {
        "id": "g-5bXPJPCN0R"
      },
      "source": [
        "print('banana' in frutas)"
      ],
      "execution_count": null,
      "outputs": []
    },
    {
      "cell_type": "markdown",
      "metadata": {
        "id": "YJEFi8LKSxjO"
      },
      "source": [
        "Para adicionar ou remover dados use as funções **add()** e **remove()**:"
      ]
    },
    {
      "cell_type": "code",
      "metadata": {
        "id": "IdlopuRSCd6b"
      },
      "source": [
        "# Adicionando novos dados e removendo dados\n",
        "\n",
        "frutas = {'maça', 'banana', 'uva', 'limao', 'banana'}\n",
        "print(frutas)\n",
        "\n",
        "frutas.add('framboesa')\n",
        "print(frutas)"
      ],
      "execution_count": null,
      "outputs": []
    },
    {
      "cell_type": "code",
      "metadata": {
        "id": "uFlDid4OCw3l"
      },
      "source": [
        "frutas.add('melao')\n",
        "print(frutas)"
      ],
      "execution_count": null,
      "outputs": []
    },
    {
      "cell_type": "code",
      "metadata": {
        "id": "gKe_TeJtC5lD"
      },
      "source": [
        "frutas.add('melancia')\n",
        "print(frutas)"
      ],
      "execution_count": null,
      "outputs": []
    },
    {
      "cell_type": "code",
      "metadata": {
        "id": "OlKkvOcpDxBu"
      },
      "source": [
        "frutas.remove('melancia')\n",
        "print(frutas)"
      ],
      "execution_count": null,
      "outputs": []
    },
    {
      "cell_type": "markdown",
      "metadata": {
        "id": "BOjfr90-DZvn"
      },
      "source": [
        "Python tem um conjunto de métodos integrados que você pode usar nos sets. Veja a documentação para mais informações."
      ]
    },
    {
      "cell_type": "markdown",
      "metadata": {
        "id": "EH98rBtDD4yl"
      },
      "source": [
        "#### **Dicionários**\n",
        "\n",
        "- Os dicionários são usados para armazenar valores de dados em pares chave: valor.\n",
        "\n",
        "- Um dicionário é uma coleção ordenada, modificável e não permite duplicatas.\n",
        "\n",
        "- Os dicionários são escritos com chaves e têm chaves e valores: {chave:valor}\n",
        "\n",
        "- Os dicionários podem ser alterados, o que significa que podemos alterar, adicionar ou remover itens após a criação do dicionário."
      ]
    },
    {
      "cell_type": "code",
      "metadata": {
        "id": "-OjyXV0iC8r8"
      },
      "source": [
        "dict = {'marca':'Ford',\n",
        "        'modelo':'Mustang',\n",
        "        'ano':'1964'}"
      ],
      "execution_count": null,
      "outputs": []
    },
    {
      "cell_type": "code",
      "metadata": {
        "id": "tnEfc4ziYAoE"
      },
      "source": [
        "print(dict)"
      ],
      "execution_count": null,
      "outputs": []
    },
    {
      "cell_type": "code",
      "metadata": {
        "id": "yGxGNzaTYSQr"
      },
      "source": [
        "#Criando dicionário com dado duplicado\n",
        "\n",
        "dict2 = {'marca':'Ford',\n",
        "        'modelo':'Mustang',\n",
        "        'ano':'1964',\n",
        "        'ano':'1965'}"
      ],
      "execution_count": null,
      "outputs": []
    },
    {
      "cell_type": "code",
      "metadata": {
        "id": "pf_s9kVUYn1G"
      },
      "source": [
        "print(dict2)"
      ],
      "execution_count": null,
      "outputs": []
    },
    {
      "cell_type": "code",
      "metadata": {
        "id": "z3m3ULwNYp0e"
      },
      "source": [
        "#Tamanho do dicionário\n",
        "\n",
        "print(len(dict))"
      ],
      "execution_count": null,
      "outputs": []
    },
    {
      "cell_type": "markdown",
      "metadata": {
        "id": "2XUgyt8GZF4f"
      },
      "source": [
        "Os valores nos itens do dicionário podem ser de qualquer tipo de dados"
      ]
    },
    {
      "cell_type": "code",
      "metadata": {
        "id": "d1GTczVfY4hx"
      },
      "source": [
        "dict3 = {\n",
        "    'marca':'Ford',\n",
        "    'modelo':'Mustang',\n",
        "    'eletrico':False,\n",
        "    'ano':1964,\n",
        "    'cores':['vermelho', 'branco', 'azul']\n",
        "}"
      ],
      "execution_count": null,
      "outputs": []
    },
    {
      "cell_type": "code",
      "metadata": {
        "id": "NSqgK8vMZfxl"
      },
      "source": [
        "print(dict3)"
      ],
      "execution_count": null,
      "outputs": []
    },
    {
      "cell_type": "code",
      "metadata": {
        "id": "Lw5iMDQ6Zgpq"
      },
      "source": [
        "print(type(dict3))"
      ],
      "execution_count": null,
      "outputs": []
    },
    {
      "cell_type": "markdown",
      "metadata": {
        "id": "RfBrH2HSckGD"
      },
      "source": [
        "Acessando elementos pela chave ou método get()"
      ]
    },
    {
      "cell_type": "code",
      "metadata": {
        "id": "Sb3Tejr-YGMj"
      },
      "source": [
        "print(dict3['modelo'])"
      ],
      "execution_count": null,
      "outputs": []
    },
    {
      "cell_type": "code",
      "metadata": {
        "id": "gT03rzOgZiZC"
      },
      "source": [
        "print(dict3['ano'])"
      ],
      "execution_count": null,
      "outputs": []
    },
    {
      "cell_type": "code",
      "metadata": {
        "id": "8Ce50eFMccA7"
      },
      "source": [
        "print(dict3.get('eletrico'))"
      ],
      "execution_count": null,
      "outputs": []
    },
    {
      "cell_type": "code",
      "metadata": {
        "id": "sfZI8HcNToBL"
      },
      "source": [
        "print(dict3.get('eletricoo', 'não há essa informação no dicionário'))"
      ],
      "execution_count": null,
      "outputs": []
    },
    {
      "cell_type": "markdown",
      "metadata": {
        "id": "9UZSqPFIcsYm"
      },
      "source": [
        "O método keys() retornará uma lista de todas as chaves do dicionário."
      ]
    },
    {
      "cell_type": "code",
      "metadata": {
        "id": "vVlbtdpecnop"
      },
      "source": [
        "dict3.keys()"
      ],
      "execution_count": null,
      "outputs": []
    },
    {
      "cell_type": "markdown",
      "metadata": {
        "id": "WJsItDOZc8ci"
      },
      "source": [
        "A lista de chaves é uma visualização do dicionário, o que significa que quaisquer alterações feitas no dicionário serão refletidas na lista de chaves."
      ]
    },
    {
      "cell_type": "code",
      "metadata": {
        "id": "kTn7XRqccvR9"
      },
      "source": [
        "carro = {\n",
        "    'marca':'Ford',\n",
        "    'modelo':'Mustang',\n",
        "    'ano':1964\n",
        "}"
      ],
      "execution_count": null,
      "outputs": []
    },
    {
      "cell_type": "code",
      "metadata": {
        "id": "ZjY8AvMXdJw0"
      },
      "source": [
        "print(carro)"
      ],
      "execution_count": null,
      "outputs": []
    },
    {
      "cell_type": "code",
      "metadata": {
        "id": "xS1Ik2aQdLDM"
      },
      "source": [
        "x = carro.keys()\n",
        "print(x)"
      ],
      "execution_count": null,
      "outputs": []
    },
    {
      "cell_type": "code",
      "metadata": {
        "id": "kZZBSYMRdOqo"
      },
      "source": [
        "carro['cor'] = 'branco'"
      ],
      "execution_count": null,
      "outputs": []
    },
    {
      "cell_type": "code",
      "metadata": {
        "id": "8Uig0g8NdVPy"
      },
      "source": [
        "print(carro)"
      ],
      "execution_count": null,
      "outputs": []
    },
    {
      "cell_type": "code",
      "metadata": {
        "id": "TqBvLQFYdXS1"
      },
      "source": [
        "x = carro.keys()\n",
        "print(x)"
      ],
      "execution_count": null,
      "outputs": []
    },
    {
      "cell_type": "markdown",
      "metadata": {
        "id": "lS9IHNmpddZ2"
      },
      "source": [
        "O método values() retornará uma lista de todos os valores no dicionário."
      ]
    },
    {
      "cell_type": "code",
      "metadata": {
        "id": "Pv8jcaZ7dYxl"
      },
      "source": [
        "y = carro.values()"
      ],
      "execution_count": null,
      "outputs": []
    },
    {
      "cell_type": "code",
      "metadata": {
        "id": "0gaDdykKdoNs"
      },
      "source": [
        "print(y)"
      ],
      "execution_count": null,
      "outputs": []
    },
    {
      "cell_type": "code",
      "metadata": {
        "id": "BWlz7WfZdpPi"
      },
      "source": [
        "# ALterando um valor no dicionário criado\n",
        "carro['cor'] = 'preto'"
      ],
      "execution_count": null,
      "outputs": []
    },
    {
      "cell_type": "code",
      "metadata": {
        "id": "hTPrP7yhdzWa"
      },
      "source": [
        "y = carro.values()\n",
        "print(y)"
      ],
      "execution_count": null,
      "outputs": []
    },
    {
      "cell_type": "markdown",
      "metadata": {
        "id": "BQNJF_LReD2M"
      },
      "source": [
        "O método items() retornará cada item em um dicionário, como tuplas em uma lista."
      ]
    },
    {
      "cell_type": "code",
      "metadata": {
        "id": "KWVg5Bded2Xu"
      },
      "source": [
        "items = carro.items()\n",
        "\n",
        "print(items)"
      ],
      "execution_count": null,
      "outputs": []
    },
    {
      "cell_type": "markdown",
      "metadata": {
        "id": "NWTw9oNqfFjv"
      },
      "source": [
        "O método update() atualizará o dicionário com os itens do argumento fornecido.\n",
        "\n",
        "Se o item não existir será criado um novo."
      ]
    },
    {
      "cell_type": "code",
      "metadata": {
        "id": "SbGfpI_QeJOJ"
      },
      "source": [
        "carro"
      ],
      "execution_count": null,
      "outputs": []
    },
    {
      "cell_type": "code",
      "metadata": {
        "id": "RgLC4vNZiftS"
      },
      "source": [
        "carro.update({'eletrico':True})"
      ],
      "execution_count": null,
      "outputs": []
    },
    {
      "cell_type": "code",
      "metadata": {
        "id": "9rDHnUEyipQS"
      },
      "source": [
        "carro"
      ],
      "execution_count": null,
      "outputs": []
    },
    {
      "cell_type": "code",
      "metadata": {
        "id": "R0toic6KiqAs"
      },
      "source": [
        "carro.update({'eletrico':False})"
      ],
      "execution_count": null,
      "outputs": []
    },
    {
      "cell_type": "code",
      "metadata": {
        "id": "_xQ1EwZXiwEu"
      },
      "source": [
        "carro"
      ],
      "execution_count": null,
      "outputs": []
    },
    {
      "cell_type": "markdown",
      "metadata": {
        "id": "EPLvFBXKjKTC"
      },
      "source": [
        "O método pop() remove o item com o nome de chave especificado."
      ]
    },
    {
      "cell_type": "code",
      "metadata": {
        "id": "P9x9l58ziwgb"
      },
      "source": [
        "carro.pop('eletrico')"
      ],
      "execution_count": null,
      "outputs": []
    },
    {
      "cell_type": "code",
      "metadata": {
        "id": "z3aEWMxNjO6w"
      },
      "source": [
        "carro"
      ],
      "execution_count": null,
      "outputs": []
    },
    {
      "cell_type": "markdown",
      "metadata": {
        "id": "BNQtgOUdjXyy"
      },
      "source": [
        "Você pode percorrer um dicionário usando um loop for.\n",
        "\n",
        "Ao percorrer um dicionário, os valores de retorno são as chaves do dicionário, mas também existem métodos para retornar os valores."
      ]
    },
    {
      "cell_type": "code",
      "metadata": {
        "id": "MJxoEL03jPrK"
      },
      "source": [
        "for x in carro:\n",
        "  print(x)"
      ],
      "execution_count": null,
      "outputs": []
    },
    {
      "cell_type": "code",
      "metadata": {
        "id": "WWrwIFp9jopb"
      },
      "source": [
        "# usando for para mostrar values\n",
        "\n",
        "for x in carro:\n",
        "  print(carro[x])"
      ],
      "execution_count": null,
      "outputs": []
    },
    {
      "cell_type": "code",
      "metadata": {
        "id": "HVR7Jccaj54W"
      },
      "source": [
        "for x in carro.values():\n",
        "  print(x)"
      ],
      "execution_count": null,
      "outputs": []
    },
    {
      "cell_type": "code",
      "metadata": {
        "id": "NDSZ9Z9dj_dE"
      },
      "source": [
        "# usando for para mostrar items\n",
        "\n",
        "for x, y in carro.items():\n",
        "  print(x, y)"
      ],
      "execution_count": null,
      "outputs": []
    },
    {
      "cell_type": "markdown",
      "metadata": {
        "id": "IJqMwcnxlVrB"
      },
      "source": [
        "Um dicionário pode conter dicionários, isso é chamado de dicionários aninhados."
      ]
    },
    {
      "cell_type": "code",
      "metadata": {
        "id": "MScbV6slkIlq"
      },
      "source": [
        "familia = {\n",
        "    'pai': {\n",
        "        'nome':'Joao',\n",
        "        'idade': 30\n",
        "    },\n",
        "\n",
        "    'mae': {\n",
        "        'nome':'Maria',\n",
        "        'idade': 30\n",
        "    },\n",
        "\n",
        "    'filho': {\n",
        "        'nome':'pedro',\n",
        "        'idade': 5\n",
        "    }\n",
        "}"
      ],
      "execution_count": null,
      "outputs": []
    },
    {
      "cell_type": "code",
      "metadata": {
        "id": "04u0QeOKnnE9"
      },
      "source": [
        "familia"
      ],
      "execution_count": null,
      "outputs": []
    },
    {
      "cell_type": "markdown",
      "metadata": {
        "id": "MQPeeE8io7js"
      },
      "source": [
        "**Nota:** Podemos também criar os três dicionários separados (pai, mae, filho) e depois adicioná-los no dicionário família."
      ]
    },
    {
      "cell_type": "code",
      "metadata": {
        "id": "R7JfeKoQp6J5"
      },
      "source": [
        "# E para adicionar um novo dado nesse dicionário???\n",
        "\n",
        "familia['pai'].update({'profissao':'professor'})\n",
        "familia['mae'].update({'profissao':'advogada'})"
      ],
      "execution_count": null,
      "outputs": []
    },
    {
      "cell_type": "code",
      "metadata": {
        "id": "Dz34O3nm0sUK"
      },
      "source": [
        "familia"
      ],
      "execution_count": null,
      "outputs": []
    },
    {
      "cell_type": "code",
      "metadata": {
        "id": "2hXuND3Y1X9d"
      },
      "source": [
        "# Acessando os dados pelas chaves com []\n",
        "\n",
        "familia['mae']['profissao']"
      ],
      "execution_count": null,
      "outputs": []
    },
    {
      "cell_type": "markdown",
      "metadata": {
        "id": "GPEcjc8Ep68v"
      },
      "source": [
        "Compreensões de dicionário: são semelhantes às compreensões de lista, mas permitem que você crie dicionários facilmente. Por exemplo:"
      ]
    },
    {
      "cell_type": "code",
      "metadata": {
        "id": "UArioqOMnn0x"
      },
      "source": [
        "nums = [0, 1, 2, 3, 4, 5, 6]\n",
        "\n",
        "even_num_to_square = {x: x ** 2 for x in nums if x % 2 == 0}\n",
        "print(even_num_to_square)"
      ],
      "execution_count": null,
      "outputs": []
    },
    {
      "cell_type": "markdown",
      "metadata": {
        "id": "v8eB_Yn1qSYu"
      },
      "source": [
        "Para mais informações veja a [documentação](https://docs.python.org/3/tutorial/datastructures.html#dictionaries)"
      ]
    },
    {
      "cell_type": "markdown",
      "metadata": {
        "id": "rd4BMmfZqazy"
      },
      "source": [
        "## **Desafio 04:**\n",
        "\n",
        "Crie um programa que leia uma quantidade indeterminada de números do usuário e coloque-os em uma lista. Depois disso mostre:\n",
        "\n",
        "a) Quantos números foram digitados\n",
        "\n",
        "b) A lista de valores ordenada de forma decrescente\n",
        "\n",
        "c) Se o valor 8 foi digitado e está ou não na lista \n",
        "\n",
        "**Dica:** Solicite ao usuário se deseja ou não continuar a inserir números na lista. Esta é sua condição de parada."
      ]
    },
    {
      "cell_type": "code",
      "metadata": {
        "id": "_XFUdMp-ZoPV"
      },
      "source": [
        ""
      ],
      "execution_count": null,
      "outputs": []
    },
    {
      "cell_type": "markdown",
      "metadata": {
        "id": "T1S-NO4cJ87a"
      },
      "source": [
        "### Agora que você já está familiarizado com Python, vamos conhecer algumas bibliotecas.\n",
        "\n",
        "As bibliotecas e pacotes Python são um conjunto de módulos e funções úteis que minimizam o uso de código em nossa vida cotidiana. Existem mais de 300.000 projetos de bibliotecas para Python, prontos para facilitar a programação dos desenvolvedores. Essas bibliotecas e pacotes destinam-se a uma variedade de soluções modernas.\n",
        "\n",
        "Mais informações sobre as bibliotecas e instalação, você pode encontrar [aqui](https://pypi.org/)"
      ]
    },
    {
      "cell_type": "markdown",
      "metadata": {
        "id": "EIpDuRmOLvKL"
      },
      "source": [
        "Considerando uma biblioteca já instalada (no seu computador ou aqui no colab) basta importá-la no código python para usá-la:\n",
        "\n",
        "import nome_da_biblioteca\n",
        "\n",
        "ou\n",
        "\n",
        "import nome_da_biblioteca as apelido_para_biblioteca"
      ]
    },
    {
      "cell_type": "code",
      "metadata": {
        "id": "XfM3Ve_iKDYV"
      },
      "source": [
        "# importando a biblioteca numpy\n",
        "\n",
        "import numpy"
      ],
      "execution_count": null,
      "outputs": []
    },
    {
      "cell_type": "code",
      "metadata": {
        "id": "6idXAzjeMS0g"
      },
      "source": [
        "# importando a biblioteca numpy e dando um apelido de np\n",
        "\n",
        "import numpy as np"
      ],
      "execution_count": null,
      "outputs": []
    },
    {
      "cell_type": "markdown",
      "metadata": {
        "id": "mmJAe4H_M0iZ"
      },
      "source": [
        "Alguns links com dicas de bibliotecas:\n",
        "\n",
        "[As 30 melhores bibliotecas e pacotes Python para Iniciantes](https://terminalroot.com.br/2019/12/as-30-melhores-bibliotecas-e-pacotes-python-para-iniciantes.html)\n",
        "\n",
        "[5 melhores bibliotecas Python para iniciantes em análise de dados](https://www.bixtecnologia.com.br/5-melhores-bibliotecas-python-para-iniciantes-em-analise-de-dados/)\n",
        "\n",
        "[Melhores Bibliotecas Python para Aprendizagem de Máquinas](https://datascience.eu/pt/programacao/melhores-bibliotecas-python-para-aprendizagem-de-maquinas/)\n",
        "\n"
      ]
    },
    {
      "cell_type": "markdown",
      "metadata": {
        "id": "O6RJTs7Mb846"
      },
      "source": [
        "## **Desafio 05:**\n",
        "\n",
        "Altere o desafio 03 para usar a biblioteca **datetime** e pegar o valor do ano atual pela biblioteca.\n",
        "\n",
        "As informações da biblioteca datetime você encontra [aqui](https://docs.python.org/3/library/datetime.html).\n",
        "\n"
      ]
    },
    {
      "cell_type": "code",
      "metadata": {
        "id": "3tUx8YahddBy"
      },
      "source": [
        ""
      ],
      "execution_count": null,
      "outputs": []
    }
  ]
}